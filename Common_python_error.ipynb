{
  "nbformat": 4,
  "nbformat_minor": 0,
  "metadata": {
    "colab": {
      "name": "Copy of Common python error.ipynb",
      "provenance": [],
      "authorship_tag": "ABX9TyOEj5KAuWLQOPtB7ljUpO4R",
      "include_colab_link": true
    },
    "kernelspec": {
      "name": "python3",
      "display_name": "Python 3"
    }
  },
  "cells": [
    {
      "cell_type": "markdown",
      "metadata": {
        "id": "view-in-github",
        "colab_type": "text"
      },
      "source": [
        "<a href=\"https://colab.research.google.com/github/Datajacker/Common-error-in-python/blob/master/Common_python_error.ipynb\" target=\"_parent\"><img src=\"https://colab.research.google.com/assets/colab-badge.svg\" alt=\"Open In Colab\"/></a>"
      ]
    },
    {
      "cell_type": "code",
      "metadata": {
        "id": "3yeublTtK5ET",
        "colab_type": "code",
        "colab": {
          "base_uri": "https://localhost:8080/",
          "height": 35
        },
        "outputId": "1504595c-c107-4325-b090-4c669e2129ea"
      },
      "source": [
        "input_list = [\n",
        "              [['a', 5], [18, 2, 43]],\n",
        "              [['x', 'y', 'z'],[94, 123, 78], [10, 9, 65, 101]]\n",
        "]\n",
        "print(input_list[1][2][3])\n",
        "# What will be the output of the code?\n",
        "# A) Error - 'Index out of range'\n",
        "# B) 43\n",
        "# C) 78\n",
        "# D) 101"
      ],
      "execution_count": 1,
      "outputs": [
        {
          "output_type": "stream",
          "text": [
            "101\n"
          ],
          "name": "stdout"
        }
      ]
    },
    {
      "cell_type": "code",
      "metadata": {
        "id": "miLa46Mrw5YN",
        "colab_type": "code",
        "colab": {
          "base_uri": "https://localhost:8080/",
          "height": 221
        },
        "outputId": "21627fcf-472f-437a-9ee4-4ef7bb6f472c"
      },
      "source": [
        "mylist = (1,2,3,4,5)\n",
        "mylist[0] = 10\n",
        "for x in mylist:\n",
        "  print(x)"
      ],
      "execution_count": null,
      "outputs": [
        {
          "output_type": "error",
          "ename": "TypeError",
          "evalue": "ignored",
          "traceback": [
            "\u001b[0;31m---------------------------------------------------------------------------\u001b[0m",
            "\u001b[0;31mTypeError\u001b[0m                                 Traceback (most recent call last)",
            "\u001b[0;32m<ipython-input-1-5108bd4df6b3>\u001b[0m in \u001b[0;36m<module>\u001b[0;34m()\u001b[0m\n\u001b[1;32m      1\u001b[0m \u001b[0mmylist\u001b[0m \u001b[0;34m=\u001b[0m \u001b[0;34m(\u001b[0m\u001b[0;36m1\u001b[0m\u001b[0;34m,\u001b[0m\u001b[0;36m2\u001b[0m\u001b[0;34m,\u001b[0m\u001b[0;36m3\u001b[0m\u001b[0;34m,\u001b[0m\u001b[0;36m4\u001b[0m\u001b[0;34m,\u001b[0m\u001b[0;36m5\u001b[0m\u001b[0;34m)\u001b[0m\u001b[0;34m\u001b[0m\u001b[0;34m\u001b[0m\u001b[0m\n\u001b[0;32m----> 2\u001b[0;31m \u001b[0mmylist\u001b[0m\u001b[0;34m[\u001b[0m\u001b[0;36m0\u001b[0m\u001b[0;34m]\u001b[0m \u001b[0;34m=\u001b[0m \u001b[0;36m10\u001b[0m\u001b[0;34m\u001b[0m\u001b[0;34m\u001b[0m\u001b[0m\n\u001b[0m\u001b[1;32m      3\u001b[0m \u001b[0;32mfor\u001b[0m \u001b[0mx\u001b[0m \u001b[0;32min\u001b[0m \u001b[0mmylist\u001b[0m\u001b[0;34m:\u001b[0m\u001b[0;34m\u001b[0m\u001b[0;34m\u001b[0m\u001b[0m\n\u001b[1;32m      4\u001b[0m   \u001b[0mprint\u001b[0m\u001b[0;34m(\u001b[0m\u001b[0mx\u001b[0m\u001b[0;34m)\u001b[0m\u001b[0;34m\u001b[0m\u001b[0;34m\u001b[0m\u001b[0m\n",
            "\u001b[0;31mTypeError\u001b[0m: 'tuple' object does not support item assignment"
          ]
        }
      ]
    },
    {
      "cell_type": "code",
      "metadata": {
        "id": "3vMjtXRBLSDY",
        "colab_type": "code",
        "colab": {
          "base_uri": "https://localhost:8080/",
          "height": 52
        },
        "outputId": "0f396247-ea0b-4253-8341-6aaf85f81040"
      },
      "source": [
        "# What is the output of the following program;\n",
        "print(0.1 + 0.2 == 0.3)\n",
        "print(0.1+0.2)\n",
        "# The data type is float"
      ],
      "execution_count": null,
      "outputs": [
        {
          "output_type": "stream",
          "text": [
            "False\n",
            "0.30000000000000004\n"
          ],
          "name": "stdout"
        }
      ]
    },
    {
      "cell_type": "code",
      "metadata": {
        "id": "xNXMcH8dCJYI",
        "colab_type": "code",
        "colab": {
          "base_uri": "https://localhost:8080/",
          "height": 35
        },
        "outputId": "c41cc95c-fd39-415b-c100-6588d038ece2"
      },
      "source": [
        "a = []\n",
        "x = a.append(4)\n",
        "y = a.append(60)\n",
        "a.append(x)\n",
        "print(a)\n",
        "\n",
        "# What will be the output of this code?\n",
        "# x and y are operation"
      ],
      "execution_count": null,
      "outputs": [
        {
          "output_type": "stream",
          "text": [
            "[4, 60, None]\n"
          ],
          "name": "stdout"
        }
      ]
    },
    {
      "cell_type": "code",
      "metadata": {
        "id": "XIH1SgYpBsJ3",
        "colab_type": "code",
        "colab": {
          "base_uri": "https://localhost:8080/",
          "height": 35
        },
        "outputId": "f77c8c6c-75fa-41e2-bafc-137441429486"
      },
      "source": [
        "for i in range (3):\n",
        "  print( i, end = ' ')\n",
        "  i = 5\n",
        "\n",
        "# What will be the output of this code?\n",
        "# for loop is different from while"
      ],
      "execution_count": null,
      "outputs": [
        {
          "output_type": "stream",
          "text": [
            "0 1 2 "
          ],
          "name": "stdout"
        }
      ]
    },
    {
      "cell_type": "code",
      "metadata": {
        "id": "pKDMQklIwpXg",
        "colab_type": "code",
        "colab": {
          "base_uri": "https://localhost:8080/",
          "height": 52
        },
        "outputId": "6207a21a-571e-4359-f645-48b0c7f73cea"
      },
      "source": [
        "a = 6\n",
        "b = 9\n",
        "c = -(-a + b)\n",
        "print(bool(c))\n",
        "print(int(bool(c)))"
      ],
      "execution_count": null,
      "outputs": [
        {
          "output_type": "stream",
          "text": [
            "True\n",
            "1\n"
          ],
          "name": "stdout"
        }
      ]
    },
    {
      "cell_type": "code",
      "metadata": {
        "id": "5Pr_9Q8awRID",
        "colab_type": "code",
        "colab": {
          "base_uri": "https://localhost:8080/",
          "height": 35
        },
        "outputId": "09b6b4f8-a618-4774-c018-973971512314"
      },
      "source": [
        "a = [1,2]\n",
        "b = a.append(92)\n",
        "print(b)\n",
        "\n",
        "# What will be the output?\n",
        "#a) [1, 2, 92]\n",
        "#b) error\n",
        "#c) None\n",
        "#d) [1, 2]"
      ],
      "execution_count": null,
      "outputs": [
        {
          "output_type": "stream",
          "text": [
            "None\n"
          ],
          "name": "stdout"
        }
      ]
    },
    {
      "cell_type": "code",
      "metadata": {
        "id": "7bl0hjhHfI05",
        "colab_type": "code",
        "colab": {
          "base_uri": "https://localhost:8080/",
          "height": 52
        },
        "outputId": "82ddcd0a-ce8c-402b-c7a6-c7597d461f01"
      },
      "source": [
        "x = 2 \n",
        "y = 0\n",
        "\n",
        "def g():\n",
        "  global x, y\n",
        "\n",
        "def adder():\n",
        "  g()\n",
        "  x = 3\n",
        "  y = 1\n",
        "  x = x +y\n",
        "\n",
        "print(x)\n",
        "adder()\n",
        "print(x)"
      ],
      "execution_count": null,
      "outputs": [
        {
          "output_type": "stream",
          "text": [
            "2\n",
            "2\n"
          ],
          "name": "stdout"
        }
      ]
    },
    {
      "cell_type": "code",
      "metadata": {
        "id": "Btahb8gio0Z_",
        "colab_type": "code",
        "colab": {
          "base_uri": "https://localhost:8080/",
          "height": 35
        },
        "outputId": "e4b11957-fb24-4a76-a6e0-9be091cafd94"
      },
      "source": [
        "myset1 = (1,2,3,'on')\n",
        "myset2 = ('pythonhub', 'instagram')\n",
        "myset = myset1 + myset2\n",
        "myset = set(myset)\n",
        "print(myset)\n",
        "# What will be the output?\n",
        "# A) Error\n",
        "# B) (1,2,3)\n",
        "# c) {1,2,3, 'on', 'pythonhub', 'instagram'}\n",
        "# D) (1,2,3, 'on', 'pythonhub', 'instagram')"
      ],
      "execution_count": null,
      "outputs": [
        {
          "output_type": "stream",
          "text": [
            "{1, 2, 'on', 3, 'instagram', 'pythonhub'}\n"
          ],
          "name": "stdout"
        }
      ]
    },
    {
      "cell_type": "code",
      "metadata": {
        "id": "njznTtZdpgYL",
        "colab_type": "code",
        "colab": {
          "base_uri": "https://localhost:8080/",
          "height": 52
        },
        "outputId": "d2aac8bc-eb3b-4f8e-9f9c-f2161c60e080"
      },
      "source": [
        "s = 'Rooose'\n",
        "v = {i for i in s}\n",
        "print(len(v))\n",
        "print(v)\n",
        "# What will be the output?"
      ],
      "execution_count": null,
      "outputs": [
        {
          "output_type": "stream",
          "text": [
            "4\n",
            "{'e', 'R', 'o', 's'}\n"
          ],
          "name": "stdout"
        }
      ]
    },
    {
      "cell_type": "code",
      "metadata": {
        "id": "ElvgOwPXJfpp",
        "colab_type": "code",
        "colab": {
          "base_uri": "https://localhost:8080/",
          "height": 35
        },
        "outputId": "0bd7b1f6-1b94-4c3b-97a9-cfc6924b12df"
      },
      "source": [
        "t = (1, 2, 4, 3)\n",
        "t[1:-1]\n",
        "# What will be the output of this code?\n",
        "# a) (1,2)\n",
        "# b) (1,2, 4)\n",
        "# c) (2, 4)\n",
        "# d) (2, 4,3)"
      ],
      "execution_count": null,
      "outputs": [
        {
          "output_type": "execute_result",
          "data": {
            "text/plain": [
              "(2, 4)"
            ]
          },
          "metadata": {
            "tags": []
          },
          "execution_count": 2
        }
      ]
    },
    {
      "cell_type": "code",
      "metadata": {
        "id": "cF1sI9oqy_52",
        "colab_type": "code",
        "colab": {
          "base_uri": "https://localhost:8080/",
          "height": 35
        },
        "outputId": "1cb6faa9-df7d-4d03-d38c-088b8bc7f060"
      },
      "source": [
        "def myfunc(a):\n",
        "  a = a + 2\n",
        "  a = a*2\n",
        "  return a\n",
        "\n",
        "print(myfunc(2))\n",
        "# What will be the output of this code?"
      ],
      "execution_count": null,
      "outputs": [
        {
          "output_type": "stream",
          "text": [
            "8\n"
          ],
          "name": "stdout"
        }
      ]
    },
    {
      "cell_type": "code",
      "metadata": {
        "id": "i6hWQX0GV-OS",
        "colab_type": "code",
        "colab": {
          "base_uri": "https://localhost:8080/",
          "height": 52
        },
        "outputId": "adc0d4b6-8614-412f-8529-27829364b8f7"
      },
      "source": [
        "s = input()\n",
        "b =int(int(7/2)*s)\n",
        "print(b)\n",
        "# What will be the output of this code?\n",
        "#a) 333\n",
        "#b) 10.5\n",
        "#c) 9\n",
        "#d) 333.0\n",
        "# s is a string and 7/2 will be integer. Then 3 of the repetive operated makes it 333"
      ],
      "execution_count": null,
      "outputs": [
        {
          "output_type": "stream",
          "text": [
            "3\n",
            "333\n"
          ],
          "name": "stdout"
        }
      ]
    },
    {
      "cell_type": "code",
      "metadata": {
        "id": "hrVkSb9bVtw9",
        "colab_type": "code",
        "colab": {
          "base_uri": "https://localhost:8080/",
          "height": 35
        },
        "outputId": "a1d39b05-6284-47c8-fae2-926339617a08"
      },
      "source": [
        "a = 2\n",
        "def p():\n",
        "  global a\n",
        "  a = 4\n",
        "\n",
        "print(a)\n",
        "# What will be the output of this code?"
      ],
      "execution_count": null,
      "outputs": [
        {
          "output_type": "stream",
          "text": [
            "2\n"
          ],
          "name": "stdout"
        }
      ]
    },
    {
      "cell_type": "code",
      "metadata": {
        "id": "ZPxmCL46pN9A",
        "colab_type": "code",
        "colab": {
          "base_uri": "https://localhost:8080/",
          "height": 35
        },
        "outputId": "41ca33ae-50e9-4adf-e112-996d5198de43"
      },
      "source": [
        "s = 'PythonIsLove'\n",
        "res = s[-4:-10:-2]\n",
        "print(res)"
      ],
      "execution_count": null,
      "outputs": [
        {
          "output_type": "stream",
          "text": [
            "LIo\n"
          ],
          "name": "stdout"
        }
      ]
    },
    {
      "cell_type": "code",
      "metadata": {
        "id": "fVq7CHKvoaK-",
        "colab_type": "code",
        "colab": {
          "base_uri": "https://localhost:8080/",
          "height": 35
        },
        "outputId": "f63795a3-1579-443e-cc8b-5c45fc8a3b3c"
      },
      "source": [
        "a = '1_111'\n",
        "print(float(a))\n",
        "# What will be the output of this code?\n",
        "#a) 1.111\n",
        "#b) 1111.0\n",
        "#c) 1111\n",
        "#d) None\n",
        "# Because in python underscore is used to represent big numbers but it is a normal number as we are using float, it just gives us a floating value of int but a.0"
      ],
      "execution_count": null,
      "outputs": [
        {
          "output_type": "stream",
          "text": [
            "1111.0\n"
          ],
          "name": "stdout"
        }
      ]
    },
    {
      "cell_type": "code",
      "metadata": {
        "id": "xr5X80EEkvIB",
        "colab_type": "code",
        "colab": {
          "base_uri": "https://localhost:8080/",
          "height": 35
        },
        "outputId": "59c3b79c-1d0c-4403-8439-2d905c606690"
      },
      "source": [
        "s = [1,2,2,3,2,9,6,5]\n",
        "t =set(s)\n",
        "s2 = [3,4,5,4]\n",
        "print(len(t) + sum(s2))\n",
        "# What will be the output of this code?"
      ],
      "execution_count": null,
      "outputs": [
        {
          "output_type": "stream",
          "text": [
            "22\n"
          ],
          "name": "stdout"
        }
      ]
    },
    {
      "cell_type": "code",
      "metadata": {
        "id": "0OL4MvRxlHgR",
        "colab_type": "code",
        "colab": {
          "base_uri": "https://localhost:8080/",
          "height": 52
        },
        "outputId": "588b4bdc-287c-42de-c942-9f9788f59bc1"
      },
      "source": [
        "t = [0]\n",
        "s1 = s2 = t\n",
        "s1 = s1 + [1]\n",
        "s2 += [1]\n",
        "print(t, s1, s2)\n",
        "# What will be the output of this code?\n",
        "t = [0]\n",
        "s1 = s2 = t\n",
        "s1 = s1 + [1]\n",
        "s2 += [2]\n",
        "print(t, s1, s2)\n",
        "# t is [0, 1] Because t is the list, any change we make to the list will come back to t."
      ],
      "execution_count": null,
      "outputs": [
        {
          "output_type": "stream",
          "text": [
            "[0, 1] [0, 1] [0, 1]\n",
            "[0, 2] [0, 1] [0, 2]\n"
          ],
          "name": "stdout"
        }
      ]
    },
    {
      "cell_type": "code",
      "metadata": {
        "id": "ZFhTs26KPJ0j",
        "colab_type": "code",
        "colab": {
          "base_uri": "https://localhost:8080/",
          "height": 52
        },
        "outputId": "431a58a8-b9c3-464a-c42d-5636a29ea0a0"
      },
      "source": [
        "# What will be the output of the following code?\n",
        "sample_tuple = ('python_scripts', 119410)\n",
        "print(sample_tuple * 2)\n",
        "a = sample_tuple * 2\n",
        "print(a)\n",
        "# Although tuple is immutable, we define new tuple via modifying the tuple as a whole."
      ],
      "execution_count": null,
      "outputs": [
        {
          "output_type": "stream",
          "text": [
            "('python_scripts', 119410, 'python_scripts', 119410)\n",
            "('python_scripts', 119410, 'python_scripts', 119410)\n"
          ],
          "name": "stdout"
        }
      ]
    },
    {
      "cell_type": "code",
      "metadata": {
        "id": "wQtu1bOhPvsY",
        "colab_type": "code",
        "colab": {
          "base_uri": "https://localhost:8080/",
          "height": 35
        },
        "outputId": "8f43ea43-db80-4aa7-c12b-1e785ee822dd"
      },
      "source": [
        "a = ['p', 'y','t','h', 'n']\n",
        "b = sorted(a)\n",
        "print(a, b)\n",
        "# The sorted method doesn't change the original value in a."
      ],
      "execution_count": null,
      "outputs": [
        {
          "output_type": "stream",
          "text": [
            "['p', 'y', 't', 'h', 'n'] ['h', 'n', 'p', 't', 'y']\n"
          ],
          "name": "stdout"
        }
      ]
    },
    {
      "cell_type": "code",
      "metadata": {
        "id": "DNeuh-pqNRJ3",
        "colab_type": "code",
        "colab": {
          "base_uri": "https://localhost:8080/",
          "height": 34
        },
        "outputId": "ec0c3638-d99a-40bb-a19f-0b06407c125a"
      },
      "source": [
        "# The difference between 'or' and 'and'\n",
        "a = True\n",
        "B = False\n",
        "C = False\n",
        "if a or b and c:\n",
        "   print(\"Hiiee\")\n",
        "else:\n",
        "   print('Byee')"
      ],
      "execution_count": null,
      "outputs": [
        {
          "output_type": "stream",
          "text": [
            "Hiiee\n"
          ],
          "name": "stdout"
        }
      ]
    },
    {
      "cell_type": "code",
      "metadata": {
        "id": "b4Uu252vPhnL",
        "colab_type": "code",
        "colab": {
          "base_uri": "https://localhost:8080/",
          "height": 246
        },
        "outputId": "e6a34bdc-f947-41b6-d019-3526fbea7c01"
      },
      "source": [
        "a = True\n",
        "B = False\n",
        "C = False\n",
        "if a or b and c:\n",
        "   print(\"Hiiee\")\n",
        "   print(b, c)\n",
        "else:\n",
        "   print('Byee')"
      ],
      "execution_count": null,
      "outputs": [
        {
          "output_type": "stream",
          "text": [
            "Hiiee\n"
          ],
          "name": "stdout"
        },
        {
          "output_type": "error",
          "ename": "NameError",
          "evalue": "ignored",
          "traceback": [
            "\u001b[0;31m---------------------------------------------------------------------------\u001b[0m",
            "\u001b[0;31mNameError\u001b[0m                                 Traceback (most recent call last)",
            "\u001b[0;32m<ipython-input-1-d8510b2f70e5>\u001b[0m in \u001b[0;36m<module>\u001b[0;34m()\u001b[0m\n\u001b[1;32m      4\u001b[0m \u001b[0;32mif\u001b[0m \u001b[0ma\u001b[0m \u001b[0;32mor\u001b[0m \u001b[0mb\u001b[0m \u001b[0;32mand\u001b[0m \u001b[0mc\u001b[0m\u001b[0;34m:\u001b[0m\u001b[0;34m\u001b[0m\u001b[0;34m\u001b[0m\u001b[0m\n\u001b[1;32m      5\u001b[0m    \u001b[0mprint\u001b[0m\u001b[0;34m(\u001b[0m\u001b[0;34m\"Hiiee\"\u001b[0m\u001b[0;34m)\u001b[0m\u001b[0;34m\u001b[0m\u001b[0;34m\u001b[0m\u001b[0m\n\u001b[0;32m----> 6\u001b[0;31m    \u001b[0mprint\u001b[0m\u001b[0;34m(\u001b[0m\u001b[0mb\u001b[0m\u001b[0;34m,\u001b[0m \u001b[0mc\u001b[0m\u001b[0;34m)\u001b[0m\u001b[0;34m\u001b[0m\u001b[0;34m\u001b[0m\u001b[0m\n\u001b[0m\u001b[1;32m      7\u001b[0m \u001b[0;32melse\u001b[0m\u001b[0;34m:\u001b[0m\u001b[0;34m\u001b[0m\u001b[0;34m\u001b[0m\u001b[0m\n\u001b[1;32m      8\u001b[0m    \u001b[0mprint\u001b[0m\u001b[0;34m(\u001b[0m\u001b[0;34m'Byee'\u001b[0m\u001b[0;34m)\u001b[0m\u001b[0;34m\u001b[0m\u001b[0;34m\u001b[0m\u001b[0m\n",
            "\u001b[0;31mNameError\u001b[0m: name 'b' is not defined"
          ]
        }
      ]
    },
    {
      "cell_type": "code",
      "metadata": {
        "id": "US_-lZ10wN8w",
        "colab_type": "code",
        "colab": {
          "base_uri": "https://localhost:8080/",
          "height": 34
        },
        "outputId": "e7785bc7-14f1-4039-db28-df2fb19b1f58"
      },
      "source": [
        "x = '123463'\n",
        "d = x[1] + x[4]\n",
        "print(d)\n",
        "# x[1]&x[4] are list not number"
      ],
      "execution_count": null,
      "outputs": [
        {
          "output_type": "stream",
          "text": [
            "26\n"
          ],
          "name": "stdout"
        }
      ]
    },
    {
      "cell_type": "code",
      "metadata": {
        "id": "WcCzAqFa1Nj6",
        "colab_type": "code",
        "colab": {}
      },
      "source": [
        "m = 'PYTHON'\n",
        "\n",
        "i = 'i'\n",
        "\n",
        "while i in m:\n",
        "  print(i, end = ' ')\n",
        "\n",
        "# A) None\n",
        "# B) PYTHON\n",
        "# C) i i i i i i\n",
        "# D) P Y T H O N\n",
        "# At this place, i is a variable. 'i' is not in m, so there is no ourput"
      ],
      "execution_count": null,
      "outputs": []
    },
    {
      "cell_type": "code",
      "metadata": {
        "id": "3g4vWZg32G6g",
        "colab_type": "code",
        "colab": {}
      },
      "source": [
        "m = 'PYTHiN'\n",
        "\n",
        "i = 'i'\n",
        "\n",
        "while i in m:\n",
        "  print(i, end = ' ')\n",
        "\n",
        "# This one will print 'i' without stop. "
      ],
      "execution_count": null,
      "outputs": []
    },
    {
      "cell_type": "code",
      "metadata": {
        "id": "FiUeZ0Wx1eWL",
        "colab_type": "code",
        "colab": {
          "base_uri": "https://localhost:8080/",
          "height": 35
        },
        "outputId": "87e5951d-d252-42db-ec4f-1bcad3016abf"
      },
      "source": [
        "m = 'PYTHON'\n",
        "\n",
        "i = 'i'\n",
        "\n",
        "for i in m:\n",
        "  print(i, end = ' ')"
      ],
      "execution_count": null,
      "outputs": [
        {
          "output_type": "stream",
          "text": [
            "P Y T H O N "
          ],
          "name": "stdout"
        }
      ]
    },
    {
      "cell_type": "code",
      "metadata": {
        "id": "DigjqgUz2VJ6",
        "colab_type": "code",
        "colab": {
          "base_uri": "https://localhost:8080/",
          "height": 35
        },
        "outputId": "26780b63-e179-4ce6-ff54-9eb6305790e6"
      },
      "source": [
        "n = [1, 34, 55, 4, 8]\n",
        "x = n[-3::-1]\n",
        "print(x)\n",
        "# step = -1, will reverse the list, starting from the index -3"
      ],
      "execution_count": null,
      "outputs": [
        {
          "output_type": "stream",
          "text": [
            "[55, 34, 1]\n"
          ],
          "name": "stdout"
        }
      ]
    },
    {
      "cell_type": "code",
      "metadata": {
        "id": "dx_YopkTG4FU",
        "colab_type": "code",
        "colab": {
          "base_uri": "https://localhost:8080/",
          "height": 35
        },
        "outputId": "86ac6fae-26d1-4ba7-c2b8-69d4cf03b494"
      },
      "source": [
        "b = 50\n",
        "def f(a, b=b):\n",
        "  return a + b\n",
        "\n",
        "b = 20\n",
        "print(f(1))\n",
        "\n",
        "# The value of b doesn't change"
      ],
      "execution_count": null,
      "outputs": [
        {
          "output_type": "stream",
          "text": [
            "51\n"
          ],
          "name": "stdout"
        }
      ]
    },
    {
      "cell_type": "code",
      "metadata": {
        "id": "Y3cq70x3ZkUD",
        "colab_type": "code",
        "colab": {
          "base_uri": "https://localhost:8080/",
          "height": 212
        },
        "outputId": "a069c10f-076b-4bc4-839f-571a804d38c9"
      },
      "source": [
        "# What will be the output of this code?\n",
        "num = 0\n",
        "for i in range(5, 0, -1):\n",
        "  num += i > num\n",
        "  print(i)\n",
        "  print(num)\n",
        "\n",
        "print(num)\n",
        "# At this place i>num is boolean output. If it is true, the output will be 1; otherwise, it will be 0."
      ],
      "execution_count": null,
      "outputs": [
        {
          "output_type": "stream",
          "text": [
            "5\n",
            "1\n",
            "4\n",
            "2\n",
            "3\n",
            "3\n",
            "2\n",
            "3\n",
            "1\n",
            "3\n",
            "3\n"
          ],
          "name": "stdout"
        }
      ]
    },
    {
      "cell_type": "code",
      "metadata": {
        "id": "R6cnKMN2N340",
        "colab_type": "code",
        "colab": {
          "base_uri": "https://localhost:8080/",
          "height": 35
        },
        "outputId": "8c311a19-59c7-4d42-a315-fb06d34d5f73"
      },
      "source": [
        "# What will be the output of the following code?\n",
        "# A) {'A', 1, 3, 'D', 'E'}\n",
        "# B) None\n",
        "# C) {'A', 1, 3, 'D', 'E', 10}\n",
        "# D) Invalid Syntax\n",
        "set_A = {'a', 1, 3, 'D', 'E'}\n",
        "set_B = set_A.add(10)\n",
        "print(set_B)\n",
        "# add method doesn't return anything. It just adds the new element to the set. Here, there will be no output."
      ],
      "execution_count": null,
      "outputs": [
        {
          "output_type": "stream",
          "text": [
            "None\n"
          ],
          "name": "stdout"
        }
      ]
    },
    {
      "cell_type": "code",
      "metadata": {
        "id": "6FPmTd2IO2l3",
        "colab_type": "code",
        "colab": {
          "base_uri": "https://localhost:8080/",
          "height": 70
        },
        "outputId": "80ef0541-ac1b-4aca-b926-4e5401d2290a"
      },
      "source": [
        "tup = 0, 1, 2\n",
        "lst =[tup]\n",
        "\n",
        "lst.append(3)\n",
        "print(lst)\n",
        "lst.pop(0)\n",
        "print(lst)\n",
        "print(len(lst))\n",
        "# What will be the output of this code, print(len(lst))?\n",
        "# When forming the list, tup gets into the list as a tuple. When the list is popped, the first element of the list is removed."
      ],
      "execution_count": null,
      "outputs": [
        {
          "output_type": "stream",
          "text": [
            "[(0, 1, 2), 3]\n",
            "[3]\n",
            "1\n"
          ],
          "name": "stdout"
        }
      ]
    },
    {
      "cell_type": "markdown",
      "metadata": {
        "id": "DFOZXpm2jUfa",
        "colab_type": "text"
      },
      "source": [
        "## Find()\n",
        "https://www.w3schools.com/python/ref_string_find.asp\n",
        "\n",
        "The find() method finds the first occurrence of the specified value.\n",
        "\n",
        "The find() method returns -1 if the value is not found.\n",
        "\n",
        "The find() method is almost the same as the index() method, the only difference is that the index() method raises an exception if the value is not found."
      ]
    },
    {
      "cell_type": "code",
      "metadata": {
        "id": "XTvA7NBYiLe2",
        "colab_type": "code",
        "colab": {
          "base_uri": "https://localhost:8080/",
          "height": 52
        },
        "outputId": "32d7535a-10a2-45f2-fcf2-485351211a1c"
      },
      "source": [
        "# What will be the output of this code?\n",
        "s = 'apple'\n",
        "x = s.find('p')\n",
        "y = s.find('f')\n",
        "z = s.find('')\n",
        "print(x,y,z)\n",
        "print(x+y+z)\n",
        "# 1 for string found. -1 for string not found. 0 for ''"
      ],
      "execution_count": null,
      "outputs": [
        {
          "output_type": "stream",
          "text": [
            "1 -1 0\n",
            "0\n"
          ],
          "name": "stdout"
        }
      ]
    },
    {
      "cell_type": "code",
      "metadata": {
        "id": "L9ydW-9jjnaq",
        "colab_type": "code",
        "colab": {
          "base_uri": "https://localhost:8080/",
          "height": 239
        },
        "outputId": "d17dea99-a252-46a5-cafa-5f3e89d59a4e"
      },
      "source": [
        "# What is the output of the following code?\n",
        "mylist = (1,2,3,4,5)\n",
        "mylist[0] = 10\n",
        "for x in mylist:\n",
        "  print(x)"
      ],
      "execution_count": null,
      "outputs": [
        {
          "output_type": "error",
          "ename": "TypeError",
          "evalue": "ignored",
          "traceback": [
            "\u001b[0;31m---------------------------------------------------------------------------\u001b[0m",
            "\u001b[0;31mTypeError\u001b[0m                                 Traceback (most recent call last)",
            "\u001b[0;32m<ipython-input-3-b3657ee32ef3>\u001b[0m in \u001b[0;36m<module>\u001b[0;34m()\u001b[0m\n\u001b[1;32m      1\u001b[0m \u001b[0;31m# What is the output of the following code?\u001b[0m\u001b[0;34m\u001b[0m\u001b[0;34m\u001b[0m\u001b[0;34m\u001b[0m\u001b[0m\n\u001b[1;32m      2\u001b[0m \u001b[0mmylist\u001b[0m \u001b[0;34m=\u001b[0m \u001b[0;34m(\u001b[0m\u001b[0;36m1\u001b[0m\u001b[0;34m,\u001b[0m\u001b[0;36m2\u001b[0m\u001b[0;34m,\u001b[0m\u001b[0;36m3\u001b[0m\u001b[0;34m,\u001b[0m\u001b[0;36m4\u001b[0m\u001b[0;34m,\u001b[0m\u001b[0;36m5\u001b[0m\u001b[0;34m)\u001b[0m\u001b[0;34m\u001b[0m\u001b[0;34m\u001b[0m\u001b[0m\n\u001b[0;32m----> 3\u001b[0;31m \u001b[0mmylist\u001b[0m\u001b[0;34m[\u001b[0m\u001b[0;36m0\u001b[0m\u001b[0;34m]\u001b[0m \u001b[0;34m=\u001b[0m \u001b[0;36m10\u001b[0m\u001b[0;34m\u001b[0m\u001b[0;34m\u001b[0m\u001b[0m\n\u001b[0m\u001b[1;32m      4\u001b[0m \u001b[0;32mfor\u001b[0m \u001b[0mx\u001b[0m \u001b[0;32min\u001b[0m \u001b[0mmylist\u001b[0m\u001b[0;34m:\u001b[0m\u001b[0;34m\u001b[0m\u001b[0;34m\u001b[0m\u001b[0m\n\u001b[1;32m      5\u001b[0m   \u001b[0mprint\u001b[0m\u001b[0;34m(\u001b[0m\u001b[0mx\u001b[0m\u001b[0;34m)\u001b[0m\u001b[0;34m\u001b[0m\u001b[0;34m\u001b[0m\u001b[0m\n",
            "\u001b[0;31mTypeError\u001b[0m: 'tuple' object does not support item assignment"
          ]
        }
      ]
    },
    {
      "cell_type": "code",
      "metadata": {
        "id": "DHOubWDhj8Pp",
        "colab_type": "code",
        "colab": {
          "base_uri": "https://localhost:8080/",
          "height": 35
        },
        "outputId": "04c71ce2-8fbc-4e74-d383-1424b172d06f"
      },
      "source": [
        "x = [\"a\", 'i', 'h', 'c']\n",
        "for i in x:\n",
        "  i.upper()\n",
        "print(x[2]+ x[1])\n",
        "# Correct output? \n",
        "# A) IA\n",
        "# B) HI\n",
        "# C) hi\n",
        "# D) Error\n",
        "# The original values in x do not change."
      ],
      "execution_count": null,
      "outputs": [
        {
          "output_type": "stream",
          "text": [
            "hi\n"
          ],
          "name": "stdout"
        }
      ]
    },
    {
      "cell_type": "code",
      "metadata": {
        "id": "z1h8P5wn8AhK",
        "colab_type": "code",
        "colab": {
          "base_uri": "https://localhost:8080/",
          "height": 70
        },
        "outputId": "e1f72a78-90ac-49e6-bb6b-8d6f0639a860"
      },
      "source": [
        "s = [100, 84, 63, 97]\n",
        "s_sort = s.sort()\n",
        "print(s_sort)\n",
        "print(s[::-1][0])\n",
        "print(s)\n",
        "\n",
        "# What will be the output of this code?"
      ],
      "execution_count": null,
      "outputs": [
        {
          "output_type": "stream",
          "text": [
            "None\n",
            "100\n",
            "[63, 84, 97, 100]\n"
          ],
          "name": "stdout"
        }
      ]
    },
    {
      "cell_type": "code",
      "metadata": {
        "id": "zDtaC1yF80Ty",
        "colab_type": "code",
        "colab": {
          "base_uri": "https://localhost:8080/",
          "height": 106
        },
        "outputId": "40f027e1-c2f9-42eb-903b-30390de67098"
      },
      "source": [
        "# What's the output?\n",
        "d = {bool(-1): {0},\n",
        "     True    : {0, 1},\n",
        "     1       : {0, 1, 2},\n",
        "     (2,)    : {0, 1, 2, 3}\n",
        "     }\n",
        "print(len(d))\n",
        "print(d)\n",
        "print(bool(-1))\n",
        "print(bool(1))\n",
        "print(bool(0))\n",
        "# When the key is the same, the later value will overwrite the previous one."
      ],
      "execution_count": null,
      "outputs": [
        {
          "output_type": "stream",
          "text": [
            "2\n",
            "{True: {0, 1, 2}, (2,): {0, 1, 2, 3}}\n",
            "True\n",
            "True\n",
            "False\n"
          ],
          "name": "stdout"
        }
      ]
    },
    {
      "cell_type": "code",
      "metadata": {
        "id": "5_zFvMfpX7Sv",
        "colab_type": "code",
        "colab": {
          "base_uri": "https://localhost:8080/",
          "height": 35
        },
        "outputId": "1a1a227a-a6b7-4622-82e8-d766e9b3df6c"
      },
      "source": [
        "#What is the output of the code?\n",
        "mytuple = [x for x in range(1, 6)]\n",
        "print(mytuple)"
      ],
      "execution_count": null,
      "outputs": [
        {
          "output_type": "stream",
          "text": [
            "[1, 2, 3, 4, 5]\n"
          ],
          "name": "stdout"
        }
      ]
    },
    {
      "cell_type": "markdown",
      "metadata": {
        "id": "q1mHCPQkFKLL",
        "colab_type": "text"
      },
      "source": [
        "## Bitwise Operations on Integer Types¶\n",
        "[link text](https://docs.python.org/3.4/library/stdtypes.html)\n",
        "\n",
        "Bitwise operations only make sense for integers. Negative numbers are treated as their 2’s complement value (this assumes a sufficiently large number of bits that no overflow occurs during the operation).\n",
        "\n",
        "The priorities of the binary bitwise operations are all lower than the numeric operations and higher than the comparisons; the unary operation ~ has the same priority as the other unary numeric operations (+ and -).\n",
        "\n",
        "This table lists the bitwise operations sorted in ascending priority:\n",
        "\n",
        "Operation\tResult\tNotes\n",
        "x | y\tbitwise or of x and y\t \n",
        "x ^ y\tbitwise exclusive or of x and y\t \n",
        "x & y\tbitwise and of x and y\t \n",
        "x << n\tx shifted left by n bits\t(1)(2)\n",
        "x >> n\tx shifted right by n bits\t(1)(3)\n",
        "~x\tthe bits of x inverted\t "
      ]
    },
    {
      "cell_type": "code",
      "metadata": {
        "id": "dzaw0WCaHEuI",
        "colab_type": "code",
        "colab": {
          "base_uri": "https://localhost:8080/",
          "height": 35
        },
        "outputId": "909b2b9e-7633-4210-96f8-a61ac1b12a97"
      },
      "source": [
        "# What does 3^4 evaluate to?\n",
        "3^4"
      ],
      "execution_count": null,
      "outputs": [
        {
          "output_type": "execute_result",
          "data": {
            "text/plain": [
              "7"
            ]
          },
          "metadata": {
            "tags": []
          },
          "execution_count": 2
        }
      ]
    }
  ]
}