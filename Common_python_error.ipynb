{
  "nbformat": 4,
  "nbformat_minor": 0,
  "metadata": {
    "colab": {
      "name": "Copy of Common python error.ipynb",
      "provenance": [],
      "authorship_tag": "ABX9TyPg38/358Au7Ipret9Z/LLL",
      "include_colab_link": true
    },
    "kernelspec": {
      "name": "python3",
      "display_name": "Python 3"
    }
  },
  "cells": [
    {
      "cell_type": "markdown",
      "metadata": {
        "id": "view-in-github",
        "colab_type": "text"
      },
      "source": [
        "<a href=\"https://colab.research.google.com/github/Datajacker/Common-error-in-python/blob/master/Common_python_error.ipynb\" target=\"_parent\"><img src=\"https://colab.research.google.com/assets/colab-badge.svg\" alt=\"Open In Colab\"/></a>"
      ]
    },
    {
      "cell_type": "code",
      "metadata": {
        "id": "DNeuh-pqNRJ3",
        "colab_type": "code",
        "outputId": "ec0c3638-d99a-40bb-a19f-0b06407c125a",
        "colab": {
          "base_uri": "https://localhost:8080/",
          "height": 34
        }
      },
      "source": [
        "# The difference between 'or' and 'and'\n",
        "a = True\n",
        "B = False\n",
        "C = False\n",
        "if a or b and c:\n",
        "   print(\"Hiiee\")\n",
        "else:\n",
        "   print('Byee')"
      ],
      "execution_count": 0,
      "outputs": [
        {
          "output_type": "stream",
          "text": [
            "Hiiee\n"
          ],
          "name": "stdout"
        }
      ]
    },
    {
      "cell_type": "code",
      "metadata": {
        "id": "b4Uu252vPhnL",
        "colab_type": "code",
        "outputId": "e6a34bdc-f947-41b6-d019-3526fbea7c01",
        "colab": {
          "base_uri": "https://localhost:8080/",
          "height": 246
        }
      },
      "source": [
        "a = True\n",
        "B = False\n",
        "C = False\n",
        "if a or b and c:\n",
        "   print(\"Hiiee\")\n",
        "   print(b, c)\n",
        "else:\n",
        "   print('Byee')"
      ],
      "execution_count": 0,
      "outputs": [
        {
          "output_type": "stream",
          "text": [
            "Hiiee\n"
          ],
          "name": "stdout"
        },
        {
          "output_type": "error",
          "ename": "NameError",
          "evalue": "ignored",
          "traceback": [
            "\u001b[0;31m---------------------------------------------------------------------------\u001b[0m",
            "\u001b[0;31mNameError\u001b[0m                                 Traceback (most recent call last)",
            "\u001b[0;32m<ipython-input-1-d8510b2f70e5>\u001b[0m in \u001b[0;36m<module>\u001b[0;34m()\u001b[0m\n\u001b[1;32m      4\u001b[0m \u001b[0;32mif\u001b[0m \u001b[0ma\u001b[0m \u001b[0;32mor\u001b[0m \u001b[0mb\u001b[0m \u001b[0;32mand\u001b[0m \u001b[0mc\u001b[0m\u001b[0;34m:\u001b[0m\u001b[0;34m\u001b[0m\u001b[0;34m\u001b[0m\u001b[0m\n\u001b[1;32m      5\u001b[0m    \u001b[0mprint\u001b[0m\u001b[0;34m(\u001b[0m\u001b[0;34m\"Hiiee\"\u001b[0m\u001b[0;34m)\u001b[0m\u001b[0;34m\u001b[0m\u001b[0;34m\u001b[0m\u001b[0m\n\u001b[0;32m----> 6\u001b[0;31m    \u001b[0mprint\u001b[0m\u001b[0;34m(\u001b[0m\u001b[0mb\u001b[0m\u001b[0;34m,\u001b[0m \u001b[0mc\u001b[0m\u001b[0;34m)\u001b[0m\u001b[0;34m\u001b[0m\u001b[0;34m\u001b[0m\u001b[0m\n\u001b[0m\u001b[1;32m      7\u001b[0m \u001b[0;32melse\u001b[0m\u001b[0;34m:\u001b[0m\u001b[0;34m\u001b[0m\u001b[0;34m\u001b[0m\u001b[0m\n\u001b[1;32m      8\u001b[0m    \u001b[0mprint\u001b[0m\u001b[0;34m(\u001b[0m\u001b[0;34m'Byee'\u001b[0m\u001b[0;34m)\u001b[0m\u001b[0;34m\u001b[0m\u001b[0;34m\u001b[0m\u001b[0m\n",
            "\u001b[0;31mNameError\u001b[0m: name 'b' is not defined"
          ]
        }
      ]
    },
    {
      "cell_type": "code",
      "metadata": {
        "id": "US_-lZ10wN8w",
        "colab_type": "code",
        "outputId": "e7785bc7-14f1-4039-db28-df2fb19b1f58",
        "colab": {
          "base_uri": "https://localhost:8080/",
          "height": 34
        }
      },
      "source": [
        "x = '123463'\n",
        "d = x[1] + x[4]\n",
        "print(d)\n",
        "# x[1]&x[4] are list not number"
      ],
      "execution_count": 0,
      "outputs": [
        {
          "output_type": "stream",
          "text": [
            "26\n"
          ],
          "name": "stdout"
        }
      ]
    },
    {
      "cell_type": "code",
      "metadata": {
        "id": "WcCzAqFa1Nj6",
        "colab_type": "code",
        "colab": {}
      },
      "source": [
        "m = 'PYTHON'\n",
        "\n",
        "i = 'i'\n",
        "\n",
        "while i in m:\n",
        "  print(i, end = ' ')\n",
        "\n",
        "# A) None\n",
        "# B) PYTHON\n",
        "# C) i i i i i i\n",
        "# D) P Y T H O N\n",
        "# At this place, i is a variable. 'i' is not in m, so there is no ourput"
      ],
      "execution_count": 0,
      "outputs": []
    },
    {
      "cell_type": "code",
      "metadata": {
        "id": "3g4vWZg32G6g",
        "colab_type": "code",
        "colab": {}
      },
      "source": [
        "m = 'PYTHiN'\n",
        "\n",
        "i = 'i'\n",
        "\n",
        "while i in m:\n",
        "  print(i, end = ' ')\n",
        "\n",
        "# This one will print 'i' without stop. "
      ],
      "execution_count": 0,
      "outputs": []
    },
    {
      "cell_type": "code",
      "metadata": {
        "id": "FiUeZ0Wx1eWL",
        "colab_type": "code",
        "outputId": "87e5951d-d252-42db-ec4f-1bcad3016abf",
        "colab": {
          "base_uri": "https://localhost:8080/",
          "height": 35
        }
      },
      "source": [
        "m = 'PYTHON'\n",
        "\n",
        "i = 'i'\n",
        "\n",
        "for i in m:\n",
        "  print(i, end = ' ')"
      ],
      "execution_count": 0,
      "outputs": [
        {
          "output_type": "stream",
          "text": [
            "P Y T H O N "
          ],
          "name": "stdout"
        }
      ]
    },
    {
      "cell_type": "code",
      "metadata": {
        "id": "DigjqgUz2VJ6",
        "colab_type": "code",
        "outputId": "26780b63-e179-4ce6-ff54-9eb6305790e6",
        "colab": {
          "base_uri": "https://localhost:8080/",
          "height": 35
        }
      },
      "source": [
        "n = [1, 34, 55, 4, 8]\n",
        "x = n[-3::-1]\n",
        "print(x)\n",
        "# step = -1, will reverse the list, starting from the index -3"
      ],
      "execution_count": 0,
      "outputs": [
        {
          "output_type": "stream",
          "text": [
            "[55, 34, 1]\n"
          ],
          "name": "stdout"
        }
      ]
    },
    {
      "cell_type": "code",
      "metadata": {
        "id": "dx_YopkTG4FU",
        "colab_type": "code",
        "outputId": "86ac6fae-26d1-4ba7-c2b8-69d4cf03b494",
        "colab": {
          "base_uri": "https://localhost:8080/",
          "height": 35
        }
      },
      "source": [
        "b = 50\n",
        "def f(a, b=b):\n",
        "  return a + b\n",
        "\n",
        "b = 20\n",
        "print(f(1))\n",
        "\n",
        "# The value of b doesn't change"
      ],
      "execution_count": 0,
      "outputs": [
        {
          "output_type": "stream",
          "text": [
            "51\n"
          ],
          "name": "stdout"
        }
      ]
    },
    {
      "cell_type": "markdown",
      "metadata": {
        "id": "q1mHCPQkFKLL",
        "colab_type": "text"
      },
      "source": [
        "## Bitwise Operations on Integer Types¶\n",
        "[link text](https://docs.python.org/3.4/library/stdtypes.html)\n",
        "\n",
        "Bitwise operations only make sense for integers. Negative numbers are treated as their 2’s complement value (this assumes a sufficiently large number of bits that no overflow occurs during the operation).\n",
        "\n",
        "The priorities of the binary bitwise operations are all lower than the numeric operations and higher than the comparisons; the unary operation ~ has the same priority as the other unary numeric operations (+ and -).\n",
        "\n",
        "This table lists the bitwise operations sorted in ascending priority:\n",
        "\n",
        "Operation\tResult\tNotes\n",
        "x | y\tbitwise or of x and y\t \n",
        "x ^ y\tbitwise exclusive or of x and y\t \n",
        "x & y\tbitwise and of x and y\t \n",
        "x << n\tx shifted left by n bits\t(1)(2)\n",
        "x >> n\tx shifted right by n bits\t(1)(3)\n",
        "~x\tthe bits of x inverted\t "
      ]
    },
    {
      "cell_type": "code",
      "metadata": {
        "id": "dzaw0WCaHEuI",
        "colab_type": "code",
        "outputId": "909b2b9e-7633-4210-96f8-a61ac1b12a97",
        "colab": {
          "base_uri": "https://localhost:8080/",
          "height": 35
        }
      },
      "source": [
        "# What does 3^4 evaluate to?\n",
        "3^4"
      ],
      "execution_count": 2,
      "outputs": [
        {
          "output_type": "execute_result",
          "data": {
            "text/plain": [
              "7"
            ]
          },
          "metadata": {
            "tags": []
          },
          "execution_count": 2
        }
      ]
    }
  ]
}