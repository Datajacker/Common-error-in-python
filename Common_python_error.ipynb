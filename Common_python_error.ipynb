{
  "nbformat": 4,
  "nbformat_minor": 0,
  "metadata": {
    "colab": {
      "name": "Common python error.ipynb",
      "provenance": [],
      "authorship_tag": "ABX9TyPMdeygAvulPw6Rk+jnKD5f",
      "include_colab_link": true
    },
    "kernelspec": {
      "name": "python3",
      "display_name": "Python 3"
    }
  },
  "cells": [
    {
      "cell_type": "markdown",
      "metadata": {
        "id": "view-in-github",
        "colab_type": "text"
      },
      "source": [
        "<a href=\"https://colab.research.google.com/github/Datajacker/Common-error-in-python/blob/master/Common_python_error.ipynb\" target=\"_parent\"><img src=\"https://colab.research.google.com/assets/colab-badge.svg\" alt=\"Open In Colab\"/></a>"
      ]
    },
    {
      "cell_type": "code",
      "metadata": {
        "id": "DNeuh-pqNRJ3",
        "colab_type": "code",
        "outputId": "ec0c3638-d99a-40bb-a19f-0b06407c125a",
        "colab": {
          "base_uri": "https://localhost:8080/",
          "height": 34
        }
      },
      "source": [
        "# The difference between \n",
        "a = True\n",
        "B = False\n",
        "C = False\n",
        "if a or b and c:\n",
        "   print(\"Hiiee\")\n",
        "else:\n",
        "   print('Byee')"
      ],
      "execution_count": 0,
      "outputs": [
        {
          "output_type": "stream",
          "text": [
            "Hiiee\n"
          ],
          "name": "stdout"
        }
      ]
    }
  ]
}