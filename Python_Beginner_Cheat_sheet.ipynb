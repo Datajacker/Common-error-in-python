{
  "nbformat": 4,
  "nbformat_minor": 0,
  "metadata": {
    "colab": {
      "name": "Python Beginner Cheat sheet.ipynb",
      "provenance": [],
      "authorship_tag": "ABX9TyM8b6qRjFavEgx3N3mUdyyd",
      "include_colab_link": true
    },
    "kernelspec": {
      "name": "python3",
      "display_name": "Python 3"
    }
  },
  "cells": [
    {
      "cell_type": "markdown",
      "metadata": {
        "id": "view-in-github",
        "colab_type": "text"
      },
      "source": [
        "<a href=\"https://colab.research.google.com/github/Datajacker/Common-error-in-python/blob/master/Python_Beginner_Cheat_sheet.ipynb\" target=\"_parent\"><img src=\"https://colab.research.google.com/assets/colab-badge.svg\" alt=\"Open In Colab\"/></a>"
      ]
    },
    {
      "cell_type": "markdown",
      "metadata": {
        "id": "aEB65gGjunwA",
        "colab_type": "text"
      },
      "source": [
        "**This cheat sheet list the major concepts and codes for Python**\n",
        "\n"
      ]
    },
    {
      "cell_type": "markdown",
      "metadata": {
        "id": "ND45sxeBu6BC",
        "colab_type": "text"
      },
      "source": [
        "## Variables and String\n",
        "Variables are used to store values. A string is a series of characters, surrounded by single or double quotes."
      ]
    },
    {
      "cell_type": "code",
      "metadata": {
        "id": "TN9MZMOIuWpF",
        "colab_type": "code",
        "outputId": "7ec0442f-90ae-45e2-a3b9-5870c7f5515a",
        "colab": {
          "base_uri": "https://localhost:8080/",
          "height": 34
        }
      },
      "source": [
        "# Hello World!\n",
        "print('Hello World!')"
      ],
      "execution_count": 0,
      "outputs": [
        {
          "output_type": "stream",
          "text": [
            "Hello World!\n"
          ],
          "name": "stdout"
        }
      ]
    },
    {
      "cell_type": "code",
      "metadata": {
        "id": "qXLfScmOvzt1",
        "colab_type": "code",
        "outputId": "4a8fcdca-a5f8-496a-b4f6-88f470f14174",
        "colab": {
          "base_uri": "https://localhost:8080/",
          "height": 34
        }
      },
      "source": [
        "# Concatenation (combining strings)\n",
        "first_name = 'Albert'\n",
        "last_name = 'Einstein'\n",
        "full_name = first_name + ' ' + last_name\n",
        "print(full_name)"
      ],
      "execution_count": 0,
      "outputs": [
        {
          "output_type": "stream",
          "text": [
            "Albert Einstein\n"
          ],
          "name": "stdout"
        }
      ]
    },
    {
      "cell_type": "markdown",
      "metadata": {
        "id": "j_RlshamwmiA",
        "colab_type": "text"
      },
      "source": [
        "## List\n",
        "\n",
        "A list stores a series of items in a particular order. You access items using an index, or within a loop."
      ]
    },
    {
      "cell_type": "code",
      "metadata": {
        "id": "BhYj0x8iwxmH",
        "colab_type": "code",
        "outputId": "10e2ac4b-20de-4f68-bc4b-1c9f21635394",
        "colab": {
          "base_uri": "https://localhost:8080/",
          "height": 50
        }
      },
      "source": [
        "# Make a string\n",
        "bikes = ['trek', 'redline', 'giant']\n",
        "# Get the items from the list\n",
        "a = bikes[0]\n",
        "b = bikes[-1]\n",
        "print(a + '\\n'+ b)"
      ],
      "execution_count": 0,
      "outputs": [
        {
          "output_type": "stream",
          "text": [
            "trek\n",
            "giant\n"
          ],
          "name": "stdout"
        }
      ]
    },
    {
      "cell_type": "code",
      "metadata": {
        "id": "YDac0AQRzD6g",
        "colab_type": "code",
        "outputId": "fe89c276-271c-45b0-f0aa-9accc3f3680e",
        "colab": {
          "base_uri": "https://localhost:8080/",
          "height": 67
        }
      },
      "source": [
        "#Looping through a list\n",
        "for bike in bikes:\n",
        "  print(bike)"
      ],
      "execution_count": 0,
      "outputs": [
        {
          "output_type": "stream",
          "text": [
            "trek\n",
            "redline\n",
            "giant\n"
          ],
          "name": "stdout"
        }
      ]
    },
    {
      "cell_type": "code",
      "metadata": {
        "id": "6Nz5HhyAzQLk",
        "colab_type": "code",
        "outputId": "cafacdc1-ce24-4fd8-c9dd-8fe24a9a6f28",
        "colab": {
          "base_uri": "https://localhost:8080/",
          "height": 34
        }
      },
      "source": [
        "# Adding items to the list append\n",
        "name_1 = ['Baihe']\n",
        "bikes.append(name_1)\n",
        "bikes"
      ],
      "execution_count": 0,
      "outputs": [
        {
          "output_type": "execute_result",
          "data": {
            "text/plain": [
              "['trek', 'redline', 'giant', ['Baihe']]"
            ]
          },
          "metadata": {
            "tags": []
          },
          "execution_count": 36
        }
      ]
    },
    {
      "cell_type": "code",
      "metadata": {
        "id": "S9OBd1KRzncc",
        "colab_type": "code",
        "outputId": "6623ebfe-c008-4155-bfee-6400ad50eea3",
        "colab": {
          "base_uri": "https://localhost:8080/",
          "height": 34
        }
      },
      "source": [
        "# Adding items to the list\n",
        "name_2 = ['Black']\n",
        "bikes.extend(name_2)\n",
        "bikes\n",
        "# When adding list to the list, append directly adds the list into the list while extend adds the element of the list into the list."
      ],
      "execution_count": 0,
      "outputs": [
        {
          "output_type": "execute_result",
          "data": {
            "text/plain": [
              "['trek', 'redline', 'giant', ['Baihe'], 'Black']"
            ]
          },
          "metadata": {
            "tags": []
          },
          "execution_count": 37
        }
      ]
    },
    {
      "cell_type": "code",
      "metadata": {
        "id": "w5ImaE__6631",
        "colab_type": "code",
        "outputId": "b787f50f-63e4-4f38-84b9-ce4fdd786a20",
        "colab": {
          "base_uri": "https://localhost:8080/",
          "height": 50
        }
      },
      "source": [
        "# Inseerting element at a particular position\n",
        "bikes = ['trek', 'redline', 'giant']\n",
        "print(bikes)\n",
        "bikes.insert(0, 'hero')\n",
        "print(bikes)"
      ],
      "execution_count": 0,
      "outputs": [
        {
          "output_type": "stream",
          "text": [
            "['trek', 'redline', 'giant']\n",
            "['hero', 'trek', 'redline', 'giant']\n"
          ],
          "name": "stdout"
        }
      ]
    },
    {
      "cell_type": "code",
      "metadata": {
        "id": "36vW16uv7SWj",
        "colab_type": "code",
        "outputId": "2e24840e-a24d-4faf-d013-bad7f294a7d5",
        "colab": {
          "base_uri": "https://localhost:8080/",
          "height": 50
        }
      },
      "source": [
        "# Removing elements\n",
        "# We can remove elements by their position in a list, or by the value of the item. If we remove an item by its value, python will only remove the first item that has that value.\n",
        "\n",
        "# Deleting an element by its position\n",
        "bikes = ['trek', 'redline', 'giant','giant']\n",
        "del bikes[0]\n",
        "print(bikes)\n",
        "\n",
        "# Removing \n",
        "bikes = ['trek', 'redline', 'giant','giant']\n",
        "bikes.remove('giant')\n",
        "print(bikes)"
      ],
      "execution_count": 0,
      "outputs": [
        {
          "output_type": "stream",
          "text": [
            "['redline', 'giant', 'giant']\n",
            "['trek', 'redline', 'giant']\n"
          ],
          "name": "stdout"
        }
      ]
    },
    {
      "cell_type": "code",
      "metadata": {
        "id": "C57pJy_H0gBV",
        "colab_type": "code",
        "outputId": "b74fdbb5-dc73-44de-9d39-896cb62369a6",
        "colab": {
          "base_uri": "https://localhost:8080/",
          "height": 50
        }
      },
      "source": [
        "#Creating numeric list\n",
        "squares_1 = []\n",
        "for i in range(1, 11):\n",
        "  squares_1.append(i**2)\n",
        "squares_2 = [x**2 for x in range(1, 11)]\n",
        "print('squares_1:', squares_1)\n",
        "print('squares_2:', squares_2)"
      ],
      "execution_count": 0,
      "outputs": [
        {
          "output_type": "stream",
          "text": [
            "squares_1: [1, 4, 9, 16, 25, 36, 49, 64, 81, 100]\n",
            "squares_2: [1, 4, 9, 16, 25, 36, 49, 64, 81, 100]\n"
          ],
          "name": "stdout"
        }
      ]
    },
    {
      "cell_type": "code",
      "metadata": {
        "id": "YU88RLcd2GPE",
        "colab_type": "code",
        "outputId": "8f1e83d4-6e58-4d7c-c150-0a39da8555a6",
        "colab": {
          "base_uri": "https://localhost:8080/",
          "height": 50
        }
      },
      "source": [
        "#slicing a list\n",
        "first_two = squares_1[:2]\n",
        "#copying a list\n",
        "all = squares_1[:]\n",
        "print(first_two)\n",
        "print(all)"
      ],
      "execution_count": 0,
      "outputs": [
        {
          "output_type": "stream",
          "text": [
            "[1, 4]\n",
            "[1, 4, 9, 16, 25, 36, 49, 64, 81, 100]\n"
          ],
          "name": "stdout"
        }
      ]
    },
    {
      "cell_type": "code",
      "metadata": {
        "id": "_O3mnGyh8qOL",
        "colab_type": "code",
        "outputId": "c508af50-0e72-4a54-f75c-de282e7bfa82",
        "colab": {
          "base_uri": "https://localhost:8080/",
          "height": 84
        }
      },
      "source": [
        "# Popping elements\n",
        "# If you want to work with an element removed from the list, we can 'pop' the element. By default, pop() returns the last element in the list, but you can also pop elements from any position in the list.\n",
        "squares_1 =[]\n",
        "for i in range(1, 11):\n",
        "  squares_1.append(i**2)\n",
        "print(squares_1)\n",
        "\n",
        "#pop the last item from the list\n",
        "last = squares_1.pop()\n",
        "print(last)\n",
        "\n",
        "squares_1 =[]\n",
        "for i in range(1, 11):\n",
        "  squares_1.append(i**2)\n",
        "print(squares_1)\n",
        "\n",
        "# pop the designated item from the list\n",
        "lasts = squares_1.pop(3)\n",
        "print(lasts)\n",
        "\n"
      ],
      "execution_count": 0,
      "outputs": [
        {
          "output_type": "stream",
          "text": [
            "[1, 4, 9, 16, 25, 36, 49, 64, 81, 100]\n",
            "100\n",
            "[1, 4, 9, 16, 25, 36, 49, 64, 81, 100]\n",
            "16\n"
          ],
          "name": "stdout"
        }
      ]
    },
    {
      "cell_type": "code",
      "metadata": {
        "id": "kCDUZH4LA5s8",
        "colab_type": "code",
        "colab": {}
      },
      "source": [
        "# Sorting a list\n",
        "# The sort() method changes the order of a list permanently.\n",
        "# The sorted() function returns a copy of the list, leaving the original list unchanged. We can sort the items in a list in alphabetical order, or reverse alphabetical ordr. You can also reverse the orginal order of the list.\n",
        "# keep in mind that lowercase and uppercase letters may affect the sort order"
      ],
      "execution_count": 0,
      "outputs": []
    },
    {
      "cell_type": "code",
      "metadata": {
        "id": "EahsH0NCB6KI",
        "colab_type": "code",
        "outputId": "2dd5133e-d0dd-47a6-8fa9-f240e2b660a5",
        "colab": {
          "base_uri": "https://localhost:8080/",
          "height": 34
        }
      },
      "source": [
        "# Sorting a list permanently\n",
        "user = ['val', 'bob', 'mia', 'ron', 'ned']\n",
        "user.sort()\n",
        "print(user)"
      ],
      "execution_count": 0,
      "outputs": [
        {
          "output_type": "stream",
          "text": [
            "['bob', 'mia', 'ned', 'ron', 'val']\n"
          ],
          "name": "stdout"
        }
      ]
    },
    {
      "cell_type": "code",
      "metadata": {
        "id": "N2kTKoaFCOdR",
        "colab_type": "code",
        "outputId": "7b248a95-e00f-4599-fc42-649d1e3a9a71",
        "colab": {
          "base_uri": "https://localhost:8080/",
          "height": 34
        }
      },
      "source": [
        "# Sorting a list permanently in reverse alphabetical order\n",
        "user = ['val', 'bob', 'mia', 'ron', 'ned']\n",
        "user.sort(reverse= True)\n",
        "print(user)"
      ],
      "execution_count": 0,
      "outputs": [
        {
          "output_type": "stream",
          "text": [
            "['val', 'ron', 'ned', 'mia', 'bob']\n"
          ],
          "name": "stdout"
        }
      ]
    },
    {
      "cell_type": "code",
      "metadata": {
        "id": "tY8lGt3-CjUr",
        "colab_type": "code",
        "outputId": "777e55d3-e6b3-4b14-def5-5709fab9f643",
        "colab": {
          "base_uri": "https://localhost:8080/",
          "height": 67
        }
      },
      "source": [
        "# Sorting a list temporarily\n",
        "user = ['val', 'bob', 'mia', 'ron', 'ned']\n",
        "print(sorted(user))\n",
        "print(sorted(user, reverse= True))\n",
        "print(user)"
      ],
      "execution_count": 0,
      "outputs": [
        {
          "output_type": "stream",
          "text": [
            "['bob', 'mia', 'ned', 'ron', 'val']\n",
            "['val', 'ron', 'ned', 'mia', 'bob']\n",
            "['val', 'bob', 'mia', 'ron', 'ned']\n"
          ],
          "name": "stdout"
        }
      ]
    },
    {
      "cell_type": "code",
      "metadata": {
        "id": "G5PxoYZaDCBP",
        "colab_type": "code",
        "outputId": "3b925d28-75a8-4772-bfb3-29ea48339d4c",
        "colab": {
          "base_uri": "https://localhost:8080/",
          "height": 101
        }
      },
      "source": [
        "# Looping through all the items in a list\n",
        "users = ['val', 'bob', 'mia', 'ron', 'ned']\n",
        "\n",
        "for user in users:\n",
        "  print('Welcome, ' + user +'!')"
      ],
      "execution_count": 0,
      "outputs": [
        {
          "output_type": "stream",
          "text": [
            "Welcome, val!\n",
            "Welcome, bob!\n",
            "Welcome, mia!\n",
            "Welcome, ron!\n",
            "Welcome, ned!\n"
          ],
          "name": "stdout"
        }
      ]
    },
    {
      "cell_type": "markdown",
      "metadata": {
        "id": "kU5p31EoGHA7",
        "colab_type": "text"
      },
      "source": [
        "### Simple statistics\n",
        "\n",
        "\n",
        "Minimum, maximum, sum of the list\n",
        "\n",
        "\n",
        "\n"
      ]
    },
    {
      "cell_type": "code",
      "metadata": {
        "id": "_llcw4mcGDs9",
        "colab_type": "code",
        "outputId": "e36c0094-54ec-46c2-b7a5-9549a7717264",
        "colab": {
          "base_uri": "https://localhost:8080/",
          "height": 34
        }
      },
      "source": [
        "num = [x for x in range(1, 100, 2)]\n",
        "print(min(num), max(num), sum(num))"
      ],
      "execution_count": 0,
      "outputs": [
        {
          "output_type": "stream",
          "text": [
            "1 99 2500\n"
          ],
          "name": "stdout"
        }
      ]
    },
    {
      "cell_type": "markdown",
      "metadata": {
        "id": "Oxh4LxgZ2jXh",
        "colab_type": "text"
      },
      "source": [
        "## Tuple\n",
        "\n",
        "Tuples are similar to list, but the items in a tuple can't be modified."
      ]
    },
    {
      "cell_type": "code",
      "metadata": {
        "id": "Ws2kXfAq2vTC",
        "colab_type": "code",
        "outputId": "37dd89a5-e211-403c-cc96-3af72a33c10e",
        "colab": {
          "base_uri": "https://localhost:8080/",
          "height": 34
        }
      },
      "source": [
        "# Making a tuple\n",
        "squares = (x**2 for x in range(1, 11))\n",
        "print(squares)"
      ],
      "execution_count": 0,
      "outputs": [
        {
          "output_type": "stream",
          "text": [
            "<generator object <genexpr> at 0x7f964547be08>\n"
          ],
          "name": "stdout"
        }
      ]
    },
    {
      "cell_type": "markdown",
      "metadata": {
        "id": "o5bmlq_Y6suk",
        "colab_type": "text"
      },
      "source": [
        "## Dictionary\n",
        "\n",
        "Dictionaries store connections between pieces of information. Each item in a dictionary is a key-value pair."
      ]
    },
    {
      "cell_type": "code",
      "metadata": {
        "id": "1y7jFyVv7Cmg",
        "colab_type": "code",
        "outputId": "395b8e9e-f76f-4112-fa91-3e695a41fb59",
        "colab": {
          "base_uri": "https://localhost:8080/",
          "height": 34
        }
      },
      "source": [
        "# A simple dictionary\n",
        "alien = {'color': 'green', 'point': 5}\n",
        "\n",
        "# Accessing a value\n",
        "print(\"The alien's color is \" + alien['color'])"
      ],
      "execution_count": 0,
      "outputs": [
        {
          "output_type": "stream",
          "text": [
            "The alien's color is green\n"
          ],
          "name": "stdout"
        }
      ]
    },
    {
      "cell_type": "code",
      "metadata": {
        "id": "N3RjEfRGHPwK",
        "colab_type": "code",
        "outputId": "629c24e4-10f0-4ef7-baff-e346b11007f6",
        "colab": {
          "base_uri": "https://localhost:8080/",
          "height": 50
        }
      },
      "source": [
        "# Getting the value with get()\n",
        "alien = {'color': 'green', 'point': 5}\n",
        "\n",
        "alien_color = alien.get('color')\n",
        "alien_point = alien.get('point', 0)\n",
        "\n",
        "print(alien_color, alien_point)\n",
        "\n",
        "alien_0 = {'color': 'green'}\n",
        "\n",
        "alien_0_color = alien_0.get('color')\n",
        "alien_0_point = alien_0.get('point', 1)\n",
        "print(alien_0_color, alien_0_point)"
      ],
      "execution_count": 0,
      "outputs": [
        {
          "output_type": "stream",
          "text": [
            "green 5\n",
            "green 1\n"
          ],
          "name": "stdout"
        }
      ]
    },
    {
      "cell_type": "code",
      "metadata": {
        "id": "nmhqlKpw7hEy",
        "colab_type": "code",
        "outputId": "fa67d45f-2ff5-45e6-c8bf-91140377bd6f",
        "colab": {
          "base_uri": "https://localhost:8080/",
          "height": 34
        }
      },
      "source": [
        "# Adding a new key-value pair\n",
        "alien['x_position'] = 0\n",
        "print(alien)"
      ],
      "execution_count": 0,
      "outputs": [
        {
          "output_type": "stream",
          "text": [
            "{'color': 'green', 'point': 5, 'x_position': 0}\n"
          ],
          "name": "stdout"
        }
      ]
    },
    {
      "cell_type": "code",
      "metadata": {
        "id": "GhR9XaPg7tut",
        "colab_type": "code",
        "outputId": "82e9c1b8-07d7-42aa-c389-ac251053f3b0",
        "colab": {
          "base_uri": "https://localhost:8080/",
          "height": 50
        }
      },
      "source": [
        "#Looping through all key-value pairs\n",
        "fav_numbers = {'eric': 17, 'ever': 4}\n",
        "for name, number in fav_numbers.items():\n",
        "  print(name + ' loves ' + str(number))"
      ],
      "execution_count": 0,
      "outputs": [
        {
          "output_type": "stream",
          "text": [
            "eric loves 17\n",
            "ever loves 4\n"
          ],
          "name": "stdout"
        }
      ]
    },
    {
      "cell_type": "code",
      "metadata": {
        "id": "zWDgvRJd8dUP",
        "colab_type": "code",
        "outputId": "bb12c890-17f1-4f30-d993-2049dccf588c",
        "colab": {
          "base_uri": "https://localhost:8080/",
          "height": 50
        }
      },
      "source": [
        "#Looping through all keys\n",
        "fav_numbers = {'eric': 17, 'ever': 4}\n",
        "for name in fav_numbers.keys():\n",
        "  print(name + ' loves '+ str(fav_numbers[name]))"
      ],
      "execution_count": 0,
      "outputs": [
        {
          "output_type": "stream",
          "text": [
            "eric loves 17\n",
            "ever loves 4\n"
          ],
          "name": "stdout"
        }
      ]
    },
    {
      "cell_type": "code",
      "metadata": {
        "id": "36S_QVt882xW",
        "colab_type": "code",
        "outputId": "9ff219dd-86eb-40e8-c383-7959550df1fb",
        "colab": {
          "base_uri": "https://localhost:8080/",
          "height": 50
        }
      },
      "source": [
        "#Looping through all values\n",
        "fav_numbers = {'eric': 17, 'ever': 4}\n",
        "for number in fav_numbers.values():\n",
        "  print(list(fav_numbers.keys())[list(fav_numbers.values()).index(number)] + ' loves ' + str(number))"
      ],
      "execution_count": 0,
      "outputs": [
        {
          "output_type": "stream",
          "text": [
            "eric loves 17\n",
            "ever loves 4\n"
          ],
          "name": "stdout"
        }
      ]
    },
    {
      "cell_type": "code",
      "metadata": {
        "id": "T4aER-ooI6LS",
        "colab_type": "code",
        "outputId": "6812dcaa-7b2f-44c2-83e0-a193feb78ade",
        "colab": {
          "base_uri": "https://localhost:8080/",
          "height": 50
        }
      },
      "source": [
        "# Removing key-value pairs\n",
        "alien = {'color':'green', 'points': 5}\n",
        "print(alien)\n",
        "\n",
        "del alien['points']\n",
        "print(alien)"
      ],
      "execution_count": 0,
      "outputs": [
        {
          "output_type": "stream",
          "text": [
            "{'color': 'green', 'points': 5}\n",
            "{'color': 'green'}\n"
          ],
          "name": "stdout"
        }
      ]
    },
    {
      "cell_type": "markdown",
      "metadata": {
        "id": "cyH5WWkbJhnd",
        "colab_type": "text"
      },
      "source": [
        "### Nesting - A list of dictionaries\n",
        "\n",
        "It is useful to store a set of dictionaries in a list."
      ]
    },
    {
      "cell_type": "code",
      "metadata": {
        "id": "sy4x3bzxJv7c",
        "colab_type": "code",
        "outputId": "3adf7305-006a-461a-b94a-67c621b4324f",
        "colab": {
          "base_uri": "https://localhost:8080/",
          "height": 319
        }
      },
      "source": [
        "# Storing disctionaries in a list\n",
        "\n",
        "users = []\n",
        "\n",
        "new_user = {\n",
        "    'last': 'fermi',\n",
        "    'first': 'enrico',\n",
        "    'username': 'efermi'\n",
        "}\n",
        "users.append(new_user)\n",
        "\n",
        "new_user = {\n",
        "    'last': 'curie',\n",
        "    'first': 'marie',\n",
        "    'username': 'mcurie'\n",
        "}\n",
        "users.append(new_user)\n",
        "\n",
        "# Show all information about each user\n",
        "for user in users:\n",
        "  for k, v in user.items():\n",
        "    print(k + \": \" +v)\n",
        "    print('\\n')\n",
        "\n",
        "# The other method to achieve this is to directly create the nesting in a list"
      ],
      "execution_count": 0,
      "outputs": [
        {
          "output_type": "stream",
          "text": [
            "last: fermi\n",
            "\n",
            "\n",
            "first: enrico\n",
            "\n",
            "\n",
            "username: efermi\n",
            "\n",
            "\n",
            "last: curie\n",
            "\n",
            "\n",
            "first: marie\n",
            "\n",
            "\n",
            "username: mcurie\n",
            "\n",
            "\n"
          ],
          "name": "stdout"
        }
      ]
    },
    {
      "cell_type": "markdown",
      "metadata": {
        "id": "J7O_n3raMWW7",
        "colab_type": "text"
      },
      "source": [
        "### Nesting -- Lists in a dictionary\n",
        "\n",
        "Storing a list inside a dicitionary allows you to associate more than one value with each key."
      ]
    },
    {
      "cell_type": "code",
      "metadata": {
        "id": "Zom0wA1BMmUE",
        "colab_type": "code",
        "outputId": "27fc8e8b-692b-4cf1-e345-7b0b45cc2215",
        "colab": {
          "base_uri": "https://localhost:8080/",
          "height": 269
        }
      },
      "source": [
        "# Storing lists in a dictionary\n",
        "fav_language = {\n",
        "    'Jan': ['python', 'ruby'],\n",
        "    'Sarah': ['C++'],\n",
        "    'Edward': ['ruby', 'go'],\n",
        "    'phil': ['python', 'java']\n",
        "}\n",
        "\n",
        "for name, langs in fav_language.items():\n",
        "  print('Name:' + name)\n",
        "  print('Favorite language: ')\n",
        "  for lang in langs:\n",
        "    print('- ' + lang)\n"
      ],
      "execution_count": 0,
      "outputs": [
        {
          "output_type": "stream",
          "text": [
            "Name:Jan\n",
            "Favorite language: \n",
            "- python\n",
            "- ruby\n",
            "Name:Sarah\n",
            "Favorite language: \n",
            "- C++\n",
            "Name:Edward\n",
            "Favorite language: \n",
            "- ruby\n",
            "- go\n",
            "Name:phil\n",
            "Favorite language: \n",
            "- python\n",
            "- java\n"
          ],
          "name": "stdout"
        }
      ]
    },
    {
      "cell_type": "markdown",
      "metadata": {
        "id": "3UbQ6s2h-nc5",
        "colab_type": "text"
      },
      "source": [
        "## Set\n",
        "\n",
        "Unordered collections of unique elements\n",
        "\n",
        "https://docs.python.org/2/library/sets.html\n"
      ]
    },
    {
      "cell_type": "code",
      "metadata": {
        "id": "uYzEpl36-1Dp",
        "colab_type": "code",
        "outputId": "d1bf7245-0644-4d5d-b631-e54a870ef85c",
        "colab": {
          "base_uri": "https://localhost:8080/",
          "height": 34
        }
      },
      "source": [
        "# Convert a list to a set\n",
        "squares_2 = [x**2 for x in range(1, 11)]\n",
        "s = set(squares_2)\n",
        "print(s)"
      ],
      "execution_count": 0,
      "outputs": [
        {
          "output_type": "stream",
          "text": [
            "{64, 1, 4, 36, 100, 9, 16, 49, 81, 25}\n"
          ],
          "name": "stdout"
        }
      ]
    },
    {
      "cell_type": "code",
      "metadata": {
        "id": "u7Y8dHw7_FS4",
        "colab_type": "code",
        "outputId": "0a8bdc99-2ee8-471e-b499-cb033dd673ce",
        "colab": {
          "base_uri": "https://localhost:8080/",
          "height": 50
        }
      },
      "source": [
        "squares_2 = [x**2 for x in range(1, 11)]\n",
        "squares = squares_2 + squares_2\n",
        "print(squares)\n",
        "print(set(squares))"
      ],
      "execution_count": 0,
      "outputs": [
        {
          "output_type": "stream",
          "text": [
            "[1, 4, 9, 16, 25, 36, 49, 64, 81, 100, 1, 4, 9, 16, 25, 36, 49, 64, 81, 100]\n",
            "{64, 1, 4, 36, 100, 9, 16, 49, 81, 25}\n"
          ],
          "name": "stdout"
        }
      ]
    },
    {
      "cell_type": "markdown",
      "metadata": {
        "id": "1xMBKqHgAqFT",
        "colab_type": "text"
      },
      "source": [
        "## Input & Output\n",
        "Our program can prompt the user for input. All input is stored as a string.\n",
        "\n",
        "https://docs.python.org/3/tutorial/inputoutput.html\n"
      ]
    },
    {
      "cell_type": "code",
      "metadata": {
        "id": "dFSeF1gdBNiF",
        "colab_type": "code",
        "outputId": "ad1753eb-4722-449d-ad51-b471c83d2c26",
        "colab": {
          "base_uri": "https://localhost:8080/",
          "height": 50
        }
      },
      "source": [
        "# Prompting for a value\n",
        "name = input(\"What's your name?\")\n",
        "print('Hello, ' + name +'!')"
      ],
      "execution_count": 0,
      "outputs": [
        {
          "output_type": "stream",
          "text": [
            "What's your name?Jia\n",
            "Hello, Jia!\n"
          ],
          "name": "stdout"
        }
      ]
    },
    {
      "cell_type": "code",
      "metadata": {
        "id": "6UkEhOYrBmzT",
        "colab_type": "code",
        "outputId": "3bbed2a3-ea49-4ead-b7bb-c86dd32750d5",
        "colab": {
          "base_uri": "https://localhost:8080/",
          "height": 50
        }
      },
      "source": [
        "# Prompting for numeric input\n",
        "age = int(input('How old are you?'))\n",
        "print('I am '+ str(age))"
      ],
      "execution_count": 0,
      "outputs": [
        {
          "output_type": "stream",
          "text": [
            "How old are you?20\n",
            "I am 20\n"
          ],
          "name": "stdout"
        }
      ]
    },
    {
      "cell_type": "code",
      "metadata": {
        "id": "eYAzE7_vCDkM",
        "colab_type": "code",
        "outputId": "936503f0-2758-44e0-e2cd-731b8bed246a",
        "colab": {
          "base_uri": "https://localhost:8080/",
          "height": 67
        }
      },
      "source": [
        "# Output format\n",
        "year = 2020\n",
        "event = 'Taste of Edmonton'\n",
        "print(f'{event} in {year} has been cancelled.')\n",
        "print('{0} in {1} has been cancelled.'.format(year, event))\n",
        "print('{1} in {0} has been cancelled.'.format(year, event))"
      ],
      "execution_count": 0,
      "outputs": [
        {
          "output_type": "stream",
          "text": [
            "Taste of Edmonton in 2020 has been cancelled.\n",
            "2020 in Taste of Edmonton has been cancelled.\n",
            "Taste of Edmonton in 2020 has been cancelled.\n"
          ],
          "name": "stdout"
        }
      ]
    },
    {
      "cell_type": "markdown",
      "metadata": {
        "id": "Lm1Gdcb4FE-f",
        "colab_type": "text"
      },
      "source": [
        "## Range function\n",
        "\n",
        "`range(start, stop, step)`. \n",
        "\n",
        "\n",
        "**start**\tOptional. An integer number specifying at which position to start. Default is 0\n",
        "\n",
        "**stop**\tRequired. An integer number specifying at which position to end.\n",
        "\n",
        "**step**\tOptional. An integer number specifying the incrementation. Default is 1\n"
      ]
    },
    {
      "cell_type": "code",
      "metadata": {
        "id": "RvTjALMPFfk-",
        "colab_type": "code",
        "outputId": "5582ca23-af63-4714-86f3-cdb60141cff8",
        "colab": {
          "base_uri": "https://localhost:8080/",
          "height": 54
        }
      },
      "source": [
        "num = [x for x in range(1, 100, 2)]\n",
        "print(num)"
      ],
      "execution_count": 0,
      "outputs": [
        {
          "output_type": "stream",
          "text": [
            "[1, 3, 5, 7, 9, 11, 13, 15, 17, 19, 21, 23, 25, 27, 29, 31, 33, 35, 37, 39, 41, 43, 45, 47, 49, 51, 53, 55, 57, 59, 61, 63, 65, 67, 69, 71, 73, 75, 77, 79, 81, 83, 85, 87, 89, 91, 93, 95, 97, 99]\n"
          ],
          "name": "stdout"
        }
      ]
    },
    {
      "cell_type": "markdown",
      "metadata": {
        "id": "LlQ-JDjwSVSy",
        "colab_type": "text"
      },
      "source": [
        "## If statements and while loops\n",
        "**If** statements allow you to examine the current state of a program and respond appropriately to that state. You can write a simple if statement that checks one condition, or you can create a complex series of if statements that idenitfy the exact conditions you're looking for. \n",
        "\n",
        "**While** loops run as long as certain conditions remain true. You can use while loops to let your programs run as long as your users want them to."
      ]
    },
    {
      "cell_type": "code",
      "metadata": {
        "id": "blxVBb3wDNQg",
        "colab_type": "code",
        "outputId": "7fed737e-9710-467f-ebe9-176e4f5f83f7",
        "colab": {
          "base_uri": "https://localhost:8080/",
          "height": 50
        }
      },
      "source": [
        "# Letting the user choose when to quit\n",
        "msg = ''\n",
        "while msg != 'quit':\n",
        "  msg= input(\"What's your message ?\")\n",
        "  print(msg)"
      ],
      "execution_count": 0,
      "outputs": [
        {
          "output_type": "stream",
          "text": [
            "What's your message ?quit\n",
            "quit\n"
          ],
          "name": "stdout"
        }
      ]
    },
    {
      "cell_type": "code",
      "metadata": {
        "id": "DdvtKFJJTb1A",
        "colab_type": "code",
        "outputId": "20a6cad9-f4c8-447e-efa8-b57f142a6cc6",
        "colab": {
          "base_uri": "https://localhost:8080/",
          "height": 34
        }
      },
      "source": [
        "# Conditional Tests\n",
        "# A conditional test is an expression that can be evaluated as True or False. Python uses the values True and False to decide whether the code in an if statement should be executed.\n",
        "\n",
        "# Checking for equality\n",
        "car = 'bmw'\n",
        "car == 'bmw'"
      ],
      "execution_count": 0,
      "outputs": [
        {
          "output_type": "execute_result",
          "data": {
            "text/plain": [
              "True"
            ]
          },
          "metadata": {
            "tags": []
          },
          "execution_count": 2
        }
      ]
    },
    {
      "cell_type": "code",
      "metadata": {
        "id": "39xbeZriUi1U",
        "colab_type": "code",
        "outputId": "fc4b947b-ed8d-40a5-ac0d-5720fd801efa",
        "colab": {
          "base_uri": "https://localhost:8080/",
          "height": 50
        }
      },
      "source": [
        "# Ignoring case when making a comparison\n",
        "car = 'Audi'\n",
        "print(car == 'audi')\n",
        "print(car.lower() == 'audi')"
      ],
      "execution_count": 0,
      "outputs": [
        {
          "output_type": "stream",
          "text": [
            "False\n",
            "True\n"
          ],
          "name": "stdout"
        }
      ]
    },
    {
      "cell_type": "code",
      "metadata": {
        "id": "cXpKHoxHU4zq",
        "colab_type": "code",
        "outputId": "46759fc4-5f95-4ead-8a84-4eb707a0758d",
        "colab": {
          "base_uri": "https://localhost:8080/",
          "height": 34
        }
      },
      "source": [
        "# Checking for inequality\n",
        "topping = 'mushroom'\n",
        "topping != 'valina'"
      ],
      "execution_count": 0,
      "outputs": [
        {
          "output_type": "execute_result",
          "data": {
            "text/plain": [
              "True"
            ]
          },
          "metadata": {
            "tags": []
          },
          "execution_count": 6
        }
      ]
    },
    {
      "cell_type": "code",
      "metadata": {
        "id": "0C_uc1j6VN9r",
        "colab_type": "code",
        "outputId": "ed8fd922-6680-4bcd-b353-78de30633649",
        "colab": {
          "base_uri": "https://localhost:8080/",
          "height": 50
        }
      },
      "source": [
        "# Checking multiple conditions\n",
        "#You can check multiple conditions at the same time. The and operator returns True if all the conditions listed are True. The or operator returns True if any condition is True.\n",
        "\n",
        "# Using and to check multiple conditions\n",
        "age_0 = 20\n",
        "age_1 = 23\n",
        "print(age_0 >= 21 and age_1 >= 21)\n",
        "print(age_0 >=20 and age_1 >= 20)"
      ],
      "execution_count": 0,
      "outputs": [
        {
          "output_type": "stream",
          "text": [
            "False\n",
            "True\n"
          ],
          "name": "stdout"
        }
      ]
    },
    {
      "cell_type": "code",
      "metadata": {
        "id": "ppez7H0EV2XA",
        "colab_type": "code",
        "outputId": "6f546ad5-8a20-4184-9dc0-2c7b10447ee3",
        "colab": {
          "base_uri": "https://localhost:8080/",
          "height": 34
        }
      },
      "source": [
        "# Using or to check multiple cconditions\n",
        "age_0 = 20\n",
        "age_1 = 23\n",
        "print(age_0 >= 21 or age_1 >= 21)"
      ],
      "execution_count": 0,
      "outputs": [
        {
          "output_type": "stream",
          "text": [
            "True\n"
          ],
          "name": "stdout"
        }
      ]
    },
    {
      "cell_type": "code",
      "metadata": {
        "id": "RsGW6rGIWQtq",
        "colab_type": "code",
        "outputId": "72335337-cb2c-416b-8ed5-60f20c6a122b",
        "colab": {
          "base_uri": "https://localhost:8080/",
          "height": 34
        }
      },
      "source": [
        "# If statements\n",
        "# simple if statement\n",
        "age = 18\n",
        "if age >= 18:\n",
        "  print(\"You're old enough to drink\")"
      ],
      "execution_count": 0,
      "outputs": [
        {
          "output_type": "stream",
          "text": [
            "You're old enough to drink\n"
          ],
          "name": "stdout"
        }
      ]
    },
    {
      "cell_type": "code",
      "metadata": {
        "id": "C5K-GUqcWpaH",
        "colab_type": "code",
        "outputId": "f07db070-964a-43f9-87e0-24d308a08b97",
        "colab": {
          "base_uri": "https://localhost:8080/",
          "height": 34
        }
      },
      "source": [
        "# if-else statement\n",
        "age =17\n",
        "if age >= 18:\n",
        "  print(\"You're old enough to drink\")\n",
        "else:\n",
        "  print(\"You can't drink yet\")"
      ],
      "execution_count": 0,
      "outputs": [
        {
          "output_type": "stream",
          "text": [
            "You can't drink yet\n"
          ],
          "name": "stdout"
        }
      ]
    },
    {
      "cell_type": "code",
      "metadata": {
        "id": "bxhwVWS5W8v0",
        "colab_type": "code",
        "outputId": "57476130-8924-4c1a-9733-4a819a88b6bc",
        "colab": {
          "base_uri": "https://localhost:8080/",
          "height": 34
        }
      },
      "source": [
        "# if-elif-else statement\n",
        "age =12\n",
        "if age< 4:\n",
        "  price = 0\n",
        "elif age< 18:\n",
        "  price = 5\n",
        "else:\n",
        "  price =10\n",
        "\n",
        "print('Your cost is $'+ str(price)+ '.')"
      ],
      "execution_count": 0,
      "outputs": [
        {
          "output_type": "stream",
          "text": [
            "Your cost is $5.\n"
          ],
          "name": "stdout"
        }
      ]
    },
    {
      "cell_type": "code",
      "metadata": {
        "id": "OkDdI0EmXcB2",
        "colab_type": "code",
        "outputId": "0712cbf0-53ac-4a45-f2dd-f71ac392478d",
        "colab": {
          "base_uri": "https://localhost:8080/",
          "height": 34
        }
      },
      "source": [
        "# Conditional tests with lists\n",
        "# Testing if a value in a list\n",
        "players = ['al','bea', 'cyn','dale']\n",
        "'al'in players"
      ],
      "execution_count": 0,
      "outputs": [
        {
          "output_type": "execute_result",
          "data": {
            "text/plain": [
              "True"
            ]
          },
          "metadata": {
            "tags": []
          },
          "execution_count": 14
        }
      ]
    },
    {
      "cell_type": "code",
      "metadata": {
        "id": "rRYzOEM1Yc1E",
        "colab_type": "code",
        "outputId": "a72b9b9d-f2d7-4e22-9d83-0be9787bcae4",
        "colab": {
          "base_uri": "https://localhost:8080/",
          "height": 34
        }
      },
      "source": [
        "# Testing if a value not in a list\n",
        "user = 'erin'\n",
        "if user not in players:\n",
        "  print('You can play.')"
      ],
      "execution_count": 0,
      "outputs": [
        {
          "output_type": "stream",
          "text": [
            "You can play.\n"
          ],
          "name": "stdout"
        }
      ]
    },
    {
      "cell_type": "code",
      "metadata": {
        "id": "o5QaCOQ5YtmO",
        "colab_type": "code",
        "outputId": "fc1fbef5-65a6-4aaa-9ed6-bf0c5c76a4f1",
        "colab": {
          "base_uri": "https://localhost:8080/",
          "height": 34
        }
      },
      "source": [
        "# Checking if a list is empty\n",
        "players = ['erin']\n",
        "if players:\n",
        "  for player in players:\n",
        "    print('Players: ' + player.title())\n",
        "else:\n",
        "  print('We have no player yet!')"
      ],
      "execution_count": 0,
      "outputs": [
        {
          "output_type": "stream",
          "text": [
            "Players: Erin\n"
          ],
          "name": "stdout"
        }
      ]
    },
    {
      "cell_type": "code",
      "metadata": {
        "id": "o9s_BW6DZNWN",
        "colab_type": "code",
        "outputId": "09715375-4bea-481e-cc3a-16e58219756a",
        "colab": {
          "base_uri": "https://localhost:8080/",
          "height": 101
        }
      },
      "source": [
        "# While loops\n",
        "# A while loop repeats a block of codes as long as condition is True\n",
        "\n",
        "# counting to 5\n",
        "current_number = 1\n",
        "while current_number <=5:\n",
        "  print(current_number)\n",
        "  current_number +=1"
      ],
      "execution_count": 0,
      "outputs": [
        {
          "output_type": "stream",
          "text": [
            "1\n",
            "2\n",
            "3\n",
            "4\n",
            "5\n"
          ],
          "name": "stdout"
        }
      ]
    },
    {
      "cell_type": "code",
      "metadata": {
        "id": "DT2umeL6aF8P",
        "colab_type": "code",
        "outputId": "6d0776d7-2e34-4aa0-fa56-a55398ee3883",
        "colab": {
          "base_uri": "https://localhost:8080/",
          "height": 134
        }
      },
      "source": [
        "# Letting the user to choose when to quit\n",
        "prompt = \"\\nTell me something, and I'll \"\n",
        "prompt += \"repeat it back to you.\"\n",
        "prompt += \"\\nEnter 'quit' to end this program.\"\n",
        "\n",
        "message = ''\n",
        "while message != 'quit':\n",
        "  message = input(prompt)\n",
        "\n",
        "  if message != 'quit':\n",
        "    print(message)"
      ],
      "execution_count": 0,
      "outputs": [
        {
          "output_type": "stream",
          "text": [
            "\n",
            "Tell me something, and I'll repeat it back to you.\n",
            "Enter 'quit' to end this program.Hi\n",
            "Hi\n",
            "\n",
            "Tell me something, and I'll repeat it back to you.\n",
            "Enter 'quit' to end this program.quit\n"
          ],
          "name": "stdout"
        }
      ]
    },
    {
      "cell_type": "code",
      "metadata": {
        "id": "0fdyfNz22fr5",
        "colab_type": "code",
        "outputId": "75e091a5-8d90-4e43-eabc-7c05e10977ba",
        "colab": {
          "base_uri": "https://localhost:8080/",
          "height": 134
        }
      },
      "source": [
        "# Using a flag\n",
        "prompt = \"\\nTell me something, and I'll \"\n",
        "prompt += \"repeat it back to you.\"\n",
        "prompt += \"\\nEnter 'quit to end this program.\"\n",
        "\n",
        "active  = True\n",
        "while active:\n",
        "  message = input(prompt)\n",
        "\n",
        "  if message == 'quit':\n",
        "    active = False\n",
        "  else:\n",
        "    print(message)"
      ],
      "execution_count": 0,
      "outputs": [
        {
          "output_type": "stream",
          "text": [
            "\n",
            "Tell me something, and I'll repeat it back to you.\n",
            "Enter 'quit to end this program.Hello\n",
            "Hello\n",
            "\n",
            "Tell me something, and I'll repeat it back to you.\n",
            "Enter 'quit to end this program.quit\n"
          ],
          "name": "stdout"
        }
      ]
    },
    {
      "cell_type": "code",
      "metadata": {
        "id": "0YBvBfl93LAR",
        "colab_type": "code",
        "outputId": "3bb5ea1f-0cdb-441d-da70-f68382fe0f74",
        "colab": {
          "base_uri": "https://localhost:8080/",
          "height": 151
        }
      },
      "source": [
        "# Using break to exit a loop\n",
        "prompt = \"\\nWhat cities have you visited?\"\n",
        "prompt = \"\\nEnter 'quit' when you are done.\"\n",
        "\n",
        "while True:\n",
        "  city = input(prompt)\n",
        "\n",
        "  if city == 'quit':\n",
        "    break\n",
        "  else:\n",
        "    print(f'I have been to {city}!')"
      ],
      "execution_count": 0,
      "outputs": [
        {
          "output_type": "stream",
          "text": [
            "\n",
            "Enter 'quit' when you are done.Beijing\n",
            "I have been to Beijing!\n",
            "\n",
            "Enter 'quit' when you are done.Hong Kong\n",
            "I have been to Hong Kong!\n",
            "\n",
            "Enter 'quit' when you are done.quit\n"
          ],
          "name": "stdout"
        }
      ]
    },
    {
      "cell_type": "code",
      "metadata": {
        "id": "w-UyR6NW4SE5",
        "colab_type": "code",
        "outputId": "7f4def69-6bbf-4e01-fb8a-b6bc918a8cc9",
        "colab": {
          "base_uri": "https://localhost:8080/",
          "height": 151
        }
      },
      "source": [
        "# Using continue to skip over certain items when looping through a list or dictionary\n",
        "# The different usage of continue and break\n",
        "banned_users = ['eve', 'fred', 'gary', 'helen']\n",
        "\n",
        "prompt = \"\\nAdd a player to your team.\"\n",
        "prompt = \"\\nEnter 'quit' when you're done.\"\n",
        "\n",
        "players =[]\n",
        "while True:\n",
        "  player = input(prompt)\n",
        "  if player == 'quit':\n",
        "    break\n",
        "  elif player in banned_users:\n",
        "    print(player + \" is banned!\")\n",
        "    print(player)\n",
        "\n",
        "  else:\n",
        "    players.append(player)\n",
        "\n",
        "\n",
        "print(\"\\nYour team:\")\n",
        "for player in players:\n",
        "  print(player)"
      ],
      "execution_count": 0,
      "outputs": [
        {
          "output_type": "stream",
          "text": [
            "\n",
            "Enter 'quit' when you're done.eve\n",
            "eve is banned!\n",
            "eve\n",
            "\n",
            "Enter 'quit' when you're done.quit\n",
            "\n",
            "Your team:\n"
          ],
          "name": "stdout"
        }
      ]
    },
    {
      "cell_type": "code",
      "metadata": {
        "id": "86NXxFBD54KK",
        "colab_type": "code",
        "outputId": "5eabefca-dbe3-4404-89cb-2ea96a044878",
        "colab": {
          "base_uri": "https://localhost:8080/",
          "height": 336
        }
      },
      "source": [
        "banned_users = ['eve', 'fred', 'gary', 'helen']\n",
        "\n",
        "prompt = \"\\nAdd a player to your team.\"\n",
        "prompt = \"\\nEnter 'quit' when you're done.\"\n",
        "\n",
        "players =[]\n",
        "while True:\n",
        "  player = input(prompt)\n",
        "  if player == 'quit':\n",
        "    break\n",
        "  elif player in banned_users:\n",
        "    print(player + \" is banned!\")\n",
        "    continue\n",
        "    print(player)\n",
        "\n",
        "  else:\n",
        "    players.append(player)\n",
        "\n",
        "\n",
        "print(\"\\nYour team:\")\n",
        "for player in players:\n",
        "  print(player)"
      ],
      "execution_count": 0,
      "outputs": [
        {
          "output_type": "stream",
          "text": [
            "\n",
            "Enter 'quit' when you're done.Dylon\n",
            "\n",
            "Enter 'quit' when you're done.Harry\n",
            "\n",
            "Enter 'quit' when you're done.eve\n",
            "eve is banned!\n",
            "\n",
            "Enter 'quit' when you're done.eve\n",
            "eve is banned!\n",
            "\n",
            "Enter 'quit' when you're done.John\n",
            "\n",
            "Enter 'quit' when you're done.quit\n",
            "\n",
            "Your team:\n",
            "Dylon\n",
            "Harry\n",
            "John\n"
          ],
          "name": "stdout"
        }
      ]
    }
  ]
}