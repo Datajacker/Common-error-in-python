{
  "nbformat": 4,
  "nbformat_minor": 0,
  "metadata": {
    "colab": {
      "name": "Get information of any movie.ipynb",
      "provenance": [],
      "authorship_tag": "ABX9TyPolB6yp5+5dMEeAq9gMpZm",
      "include_colab_link": true
    },
    "kernelspec": {
      "name": "python3",
      "display_name": "Python 3"
    }
  },
  "cells": [
    {
      "cell_type": "markdown",
      "metadata": {
        "id": "view-in-github",
        "colab_type": "text"
      },
      "source": [
        "<a href=\"https://colab.research.google.com/github/Datajacker/Common-error-in-python/blob/master/funny%20stuff/Get_information_of_any_movie.ipynb\" target=\"_parent\"><img src=\"https://colab.research.google.com/assets/colab-badge.svg\" alt=\"Open In Colab\"/></a>"
      ]
    },
    {
      "cell_type": "markdown",
      "metadata": {
        "id": "3yKv1zFXacxm"
      },
      "source": [
        "#IMDB https://pypi.org/project/IMDbPY/"
      ]
    },
    {
      "cell_type": "code",
      "metadata": {
        "id": "naApGoNyXog4",
        "outputId": "f9d8d77a-b4d2-4a03-e634-154aa13f3eaa",
        "colab": {
          "base_uri": "https://localhost:8080/",
          "height": 141
        }
      },
      "source": [
        "! pip install IMDbPY"
      ],
      "execution_count": 3,
      "outputs": [
        {
          "output_type": "stream",
          "text": [
            "Collecting IMDbPY\n",
            "\u001b[?25l  Downloading https://files.pythonhosted.org/packages/c2/01/f5ac9a00185d02af0da7866e02f36de674c531f4d16a82f6ea942446471a/IMDbPY-2020.9.25-py3-none-any.whl (304kB)\n",
            "\u001b[K     |████████████████████████████████| 307kB 2.8MB/s \n",
            "\u001b[?25hRequirement already satisfied: SQLAlchemy in /usr/local/lib/python3.6/dist-packages (from IMDbPY) (1.3.19)\n",
            "Requirement already satisfied: lxml in /usr/local/lib/python3.6/dist-packages (from IMDbPY) (4.2.6)\n",
            "Installing collected packages: IMDbPY\n",
            "Successfully installed IMDbPY-2020.9.25\n"
          ],
          "name": "stdout"
        }
      ]
    },
    {
      "cell_type": "code",
      "metadata": {
        "id": "I_uQuLpXJOUJ"
      },
      "source": [
        "import imdb"
      ],
      "execution_count": 6,
      "outputs": []
    },
    {
      "cell_type": "code",
      "metadata": {
        "id": "Mr8cm3CfJW9-",
        "outputId": "6075f08b-d00e-48f0-bb17-ea2f4eda5e6b",
        "colab": {
          "base_uri": "https://localhost:8080/",
          "height": 55
        }
      },
      "source": [
        "moviesDB = imdb.IMDb()\n",
        "movies = moviesDB.search_movie('inception')\n",
        "id = movies[0].getID()\n",
        "print(movies)"
      ],
      "execution_count": 8,
      "outputs": [
        {
          "output_type": "stream",
          "text": [
            "[<Movie id:1375666[http] title:_Inception (2010)_>, <Movie id:7321322[http] title:_Inception (2014)_>, <Movie id:4364692[http] title:_\"The Breaks\" Inception (2014)_>, <Movie id:5295894[http] title:_Inception: The Cobol Job (2010) (V)_>, <Movie id:5295990[http] title:_Inception: Jump Right Into the Action (2010) (V)_>, <Movie id:1790736[http] title:_\"Inception: Motion Comics\" (2010)_>, <Movie id:1686778[http] title:_Inception: 4Movie Premiere Special (2010) (TV)_>, <Movie id:3563778[http] title:_Inception of a lost Art (2013)_>, <Movie id:6461812[http] title:_\"Deception\" (2018)_>, <Movie id:0800240[http] title:_Deception (I) (2008)_>, <Movie id:4721124[http] title:_The Exception (2016)_>, <Movie id:1619277[http] title:_Conception (2011)_>, <Movie id:1714204[http] title:_\"Perception\" (2012)_>, <Movie id:2245029[http] title:_\"Deception\" (I) (2013)_>, <Movie id:0038461[http] title:_Deception (1946)_>, <Movie id:7420532[http] title:_The Exception (2019)_>, <Movie id:6793710[http] title:_The Crack: Inception (2019)_>, <Movie id:8269586[http] title:_Bikini Inception (2015)_>, <Movie id:0384908[http] title:_Deception (2003) (TV)_>, <Movie id:2125844[http] title:_\"Forget About It\" Inception (I) (2011)_>]\n"
          ],
          "name": "stdout"
        }
      ]
    },
    {
      "cell_type": "code",
      "metadata": {
        "id": "DJ3n_OVnXh0g",
        "outputId": "53bb45be-2128-4fdd-b7d2-3ab08388b71b",
        "colab": {
          "base_uri": "https://localhost:8080/",
          "height": 126
        }
      },
      "source": [
        "movie = moviesDB.get_movie(id)\n",
        "title = movie['title']\n",
        "year = movie['year']\n",
        "rating = movie['rating']\n",
        "directors = movie['directors']\n",
        "casting = movie['cast']\n",
        "print('Movie info:')\n",
        "print(f'{title} - {year}')\n",
        "print(f'rating: {rating}')\n",
        "direc = ' '.join(map(str, directors))\n",
        "print(f'directors: {direc}')\n",
        "actors = ', '.join(map(str, casting))\n",
        "print(f'actors: {actors}')"
      ],
      "execution_count": 9,
      "outputs": [
        {
          "output_type": "stream",
          "text": [
            "Movie info:\n",
            "Inception - 2010\n",
            "rating: 8.8\n",
            "directors: Christopher Nolan\n",
            "actors: Leonardo DiCaprio, Joseph Gordon-Levitt, Ellen Page, Tom Hardy, Ken Watanabe, Dileep Rao, Cillian Murphy, Tom Berenger, Marion Cotillard, Pete Postlethwaite, Michael Caine, Lukas Haas, Tai-Li Lee, Claire Geare, Magnus Nolan, Taylor Geare, Johnathan Geare, Tohoru Masamune, Yuji Okumoto, Earl Cameron, Ryan Hayward, Miranda Nolan, Russ Fega, Tim Kelleher, Talulah Riley, Nicolas Clerc, Coralie Dedykere, Silvie Laguna, Virgile Bramly, Jean-Michel Dagory, Helena Cullinan, Mark Fleischmann, Shelley Lang, Adam Cole, Jack Murray, Kraig Thornber, Angela Nathenson, Natasha Beaumont, Marc Raducci, Carl Gilliard, Jill Maddrell, Alex Lombard, Nicole Pulliam, Peter Basham, Michael Gaston, Felix Scott, Andrew Pleavin, Lisa Reynolds, Jason Tendell, Jack Gilroy, Shannon Welles, Michael August, Ken Bahn, Hélène Cardona, John Ceallach, Garvin Cross, James Currie, Youlanda Davis, Julie Eagleton, Seve Esposito, Marcus Everett, Zachary Christopher Fay, Daniel Girondeaud, Natalie Goldwin, Andrew Hoagland, Guy Iannacone, Marguerite Gioia Insolia, Charles Jarrell, Seong-hwan Jo, Alonzo F. Jones, Mobin Khan, Shunsaku Kudô, Leticia LaBelle, John Lawson, Jean-Christophe Leger, Arnold Montey, François-Marie Nivon, Scott Pretty, Benjamin Riley, Norman Saleet, Colin Smith, Affan Tareen, Matt Vogel\n"
          ],
          "name": "stdout"
        }
      ]
    },
    {
      "cell_type": "code",
      "metadata": {
        "id": "UMHT7vhOZzu6",
        "outputId": "01323e7e-e012-43b3-d31f-78c4eab1ff06",
        "colab": {
          "base_uri": "https://localhost:8080/",
          "height": 52
        }
      },
      "source": [
        "print(movie['directors'])\n",
        "type(movie['directors'])"
      ],
      "execution_count": 12,
      "outputs": [
        {
          "output_type": "stream",
          "text": [
            "[<Person id:0634240[http] name:_Christopher Nolan_>]\n"
          ],
          "name": "stdout"
        },
        {
          "output_type": "execute_result",
          "data": {
            "text/plain": [
              "list"
            ]
          },
          "metadata": {
            "tags": []
          },
          "execution_count": 12
        }
      ]
    },
    {
      "cell_type": "code",
      "metadata": {
        "id": "Ff_29MjVaJmD",
        "outputId": "f02dd667-693d-41d5-9dea-7a8b5cedda04",
        "colab": {
          "base_uri": "https://localhost:8080/",
          "height": 72
        }
      },
      "source": [
        "print(movie['cast'])\n",
        "type(movie['cast'])"
      ],
      "execution_count": 13,
      "outputs": [
        {
          "output_type": "stream",
          "text": [
            "[<Person id:0000138[http] name:_Leonardo DiCaprio_>, <Person id:0330687[http] name:_Joseph Gordon-Levitt_>, <Person id:0680983[http] name:_Ellen Page_>, <Person id:0362766[http] name:_Tom Hardy_>, <Person id:0913822[http] name:_Ken Watanabe_>, <Person id:2438307[http] name:_Dileep Rao_>, <Person id:0614165[http] name:_Cillian Murphy_>, <Person id:0000297[http] name:_Tom Berenger_>, <Person id:0182839[http] name:_Marion Cotillard_>, <Person id:0000592[http] name:_Pete Postlethwaite_>, <Person id:0000323[http] name:_Michael Caine_>, <Person id:0001305[http] name:_Lukas Haas_>, <Person id:2581730[http] name:_Tai-Li Lee_>, <Person id:3637500[http] name:_Claire Geare_>, <Person id:3960408[http] name:_Magnus Nolan_>, <Person id:2855622[http] name:_Taylor Geare_>, <Person id:3638213[http] name:_Johnathan Geare_>, <Person id:0556070[http] name:_Tohoru Masamune_>, <Person id:0645785[http] name:_Yuji Okumoto_>, <Person id:0131565[http] name:_Earl Cameron_>, <Person id:1147074[http] name:_Ryan Hayward_>, <Person id:3886541[http] name:_Miranda Nolan_>, <Person id:0270383[http] name:_Russ Fega_>, <Person id:0445551[http] name:_Tim Kelleher_>, <Person id:1506908[http] name:_Talulah Riley_>, <Person id:3862333[http] name:_Nicolas Clerc_>, <Person id:1886397[http] name:_Coralie Dedykere_>, <Person id:0481472[http] name:_Silvie Laguna_>, <Person id:1522531[http] name:_Virgile Bramly_>, <Person id:0196815[http] name:_Jean-Michel Dagory_>, <Person id:2197472[http] name:_Helena Cullinan_>, <Person id:2855554[http] name:_Mark Fleischmann_>, <Person id:2689325[http] name:_Shelley Lang_>, <Person id:2462275[http] name:_Adam Cole_>, <Person id:0615007[http] name:_Jack Murray_>, <Person id:1620995[http] name:_Kraig Thornber_>, <Person id:3960627[http] name:_Angela Nathenson_>, <Person id:1068659[http] name:_Natasha Beaumont_>, <Person id:0705874[http] name:_Marc Raducci_>, <Person id:0318784[http] name:_Carl Gilliard_>, <Person id:1781653[http] name:_Jill Maddrell_>, <Person id:3123016[http] name:_Alex Lombard_>, <Person id:0700445[http] name:_Nicole Pulliam_>, <Person id:3462529[http] name:_Peter Basham_>, <Person id:0309461[http] name:_Michael Gaston_>, <Person id:1907658[http] name:_Felix Scott_>, <Person id:0687091[http] name:_Andrew Pleavin_>, <Person id:0721835[http] name:_Lisa Reynolds_>, <Person id:2278735[http] name:_Jason Tendell_>, <Person id:0319669[http] name:_Jack Gilroy_>, <Person id:0919952[http] name:_Shannon Welles_>, <Person id:3230097[http] name:_Michael August_>, <Person id:2145616[http] name:_Ken Bahn_>, <Person id:0136563[http] name:_Hélène Cardona_>, <Person id:2554469[http] name:_John Ceallach_>, <Person id:0189162[http] name:_Garvin Cross_>, <Person id:3050181[http] name:_James Currie_>, <Person id:3769592[http] name:_Youlanda Davis_>, <Person id:1994157[http] name:_Julie Eagleton_>, <Person id:4131076[http] name:_Seve Esposito_>, <Person id:4414994[http] name:_Marcus Everett_>, <Person id:3917836[http] name:_Zachary Christopher Fay_>, <Person id:3549892[http] name:_Daniel Girondeaud_>, <Person id:3653808[http] name:_Natalie Goldwin_>, <Person id:1660476[http] name:_Andrew Hoagland_>, <Person id:7703817[http] name:_Guy Iannacone_>, <Person id:3638581[http] name:_Marguerite Gioia Insolia_>, <Person id:4346594[http] name:_Charles Jarrell_>, <Person id:3780879[http] name:_Seong-hwan Jo_>, <Person id:1115889[http] name:_Alonzo F. Jones_>, <Person id:1783154[http] name:_Mobin Khan_>, <Person id:1402638[http] name:_Shunsaku Kudô_>, <Person id:3254124[http] name:_Leticia LaBelle_>, <Person id:2364305[http] name:_John Lawson_>, <Person id:2545052[http] name:_Jean-Christophe Leger_>, <Person id:7419291[http] name:_Arnold Montey_>, <Person id:4451348[http] name:_François-Marie Nivon_>, <Person id:3792623[http] name:_Scott Pretty_>, <Person id:2411840[http] name:_Benjamin Riley_>, <Person id:0757955[http] name:_Norman Saleet_>, <Person id:4195263[http] name:_Colin Smith_>, <Person id:3934065[http] name:_Affan Tareen_>, <Person id:0900934[http] name:_Matt Vogel_>]\n"
          ],
          "name": "stdout"
        },
        {
          "output_type": "execute_result",
          "data": {
            "text/plain": [
              "list"
            ]
          },
          "metadata": {
            "tags": []
          },
          "execution_count": 13
        }
      ]
    }
  ]
}