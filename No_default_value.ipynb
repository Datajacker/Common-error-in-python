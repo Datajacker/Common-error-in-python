{
  "nbformat": 4,
  "nbformat_minor": 0,
  "metadata": {
    "colab": {
      "name": "No default value.ipynb",
      "provenance": [],
      "authorship_tag": "ABX9TyM7c954i83YjPqiEIkLS+1s",
      "include_colab_link": true
    },
    "kernelspec": {
      "name": "python3",
      "display_name": "Python 3"
    }
  },
  "cells": [
    {
      "cell_type": "markdown",
      "metadata": {
        "id": "view-in-github",
        "colab_type": "text"
      },
      "source": [
        "<a href=\"https://colab.research.google.com/github/Datajacker/Common-error-in-python/blob/master/No_default_value.ipynb\" target=\"_parent\"><img src=\"https://colab.research.google.com/assets/colab-badge.svg\" alt=\"Open In Colab\"/></a>"
      ]
    },
    {
      "cell_type": "code",
      "metadata": {
        "id": "eVQyrF5EtCb3",
        "colab_type": "code",
        "colab": {
          "base_uri": "https://localhost:8080/",
          "height": 128
        },
        "outputId": "d2ee8513-47bb-4cb7-92cf-1fd5bb2bd36b"
      },
      "source": [
        "#Using a default value\n",
        "def describe_pet(nimal = 'dog',name):\n",
        "  print(\"\\nI have a \" + animal + '.')\n",
        "  print(\"It's name is \" + '.')\n",
        "\n",
        "describe_pet('hamster', 'harry')\n",
        "describe_pet(seaborn)"
      ],
      "execution_count": 1,
      "outputs": [
        {
          "output_type": "error",
          "ename": "SyntaxError",
          "evalue": "ignored",
          "traceback": [
            "\u001b[0;36m  File \u001b[0;32m\"<ipython-input-1-3ae8468533be>\"\u001b[0;36m, line \u001b[0;32m1\u001b[0m\n\u001b[0;31m    def describe_pet(nimal = 'dog',name):\u001b[0m\n\u001b[0m                    ^\u001b[0m\n\u001b[0;31mSyntaxError\u001b[0m\u001b[0;31m:\u001b[0m non-default argument follows default argument\n"
          ]
        }
      ]
    }
  ]
}