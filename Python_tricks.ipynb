{
  "nbformat": 4,
  "nbformat_minor": 0,
  "metadata": {
    "colab": {
      "name": "Python tricks.ipynb",
      "provenance": [],
      "authorship_tag": "ABX9TyNCO7gnFVLDObr3zUkkNOHC",
      "include_colab_link": true
    },
    "kernelspec": {
      "name": "python3",
      "display_name": "Python 3"
    }
  },
  "cells": [
    {
      "cell_type": "markdown",
      "metadata": {
        "id": "view-in-github",
        "colab_type": "text"
      },
      "source": [
        "<a href=\"https://colab.research.google.com/github/Datajacker/Common-error-in-python/blob/master/Python_tricks.ipynb\" target=\"_parent\"><img src=\"https://colab.research.google.com/assets/colab-badge.svg\" alt=\"Open In Colab\"/></a>"
      ]
    },
    {
      "cell_type": "markdown",
      "metadata": {
        "id": "Nozq0VCeU95n",
        "colab_type": "text"
      },
      "source": [
        "## 1. Merge dictionaries\n",
        "\n",
        "https://www.w3schools.com/python/python_dictionaries.asp\n",
        "\n"
      ]
    },
    {
      "cell_type": "code",
      "metadata": {
        "id": "-8NtCv06U6J_",
        "colab_type": "code",
        "colab": {}
      },
      "source": [
        "d1 = {'a':1, 'b': 2}\n",
        "d2 = {'c':3, 'd': 4}"
      ],
      "execution_count": 0,
      "outputs": []
    },
    {
      "cell_type": "code",
      "metadata": {
        "id": "KGSJf1cYVTIU",
        "colab_type": "code",
        "colab": {
          "base_uri": "https://localhost:8080/",
          "height": 35
        },
        "outputId": "dfb92691-e767-4e05-9e78-979b4f66dfac"
      },
      "source": [
        "dict(d1, **d2)"
      ],
      "execution_count": 4,
      "outputs": [
        {
          "output_type": "execute_result",
          "data": {
            "text/plain": [
              "{'a': 1, 'b': 2, 'c': 3, 'd': 4}"
            ]
          },
          "metadata": {
            "tags": []
          },
          "execution_count": 4
        }
      ]
    },
    {
      "cell_type": "code",
      "metadata": {
        "id": "EM_TZqgFV5cs",
        "colab_type": "code",
        "colab": {
          "base_uri": "https://localhost:8080/",
          "height": 35
        },
        "outputId": "6ec03668-9377-48a2-a7f1-c696cde44ded"
      },
      "source": [
        "{**d1, **d2}"
      ],
      "execution_count": 6,
      "outputs": [
        {
          "output_type": "execute_result",
          "data": {
            "text/plain": [
              "{'a': 1, 'b': 2, 'c': 3, 'd': 4}"
            ]
          },
          "metadata": {
            "tags": []
          },
          "execution_count": 6
        }
      ]
    },
    {
      "cell_type": "markdown",
      "metadata": {
        "id": "hc3Mdf9hWFl4",
        "colab_type": "text"
      },
      "source": [
        "## 2. String join\n",
        "https://www.w3schools.com/python/ref_string_join.asp"
      ]
    },
    {
      "cell_type": "code",
      "metadata": {
        "id": "xHcIKo-MWR97",
        "colab_type": "code",
        "colab": {
          "base_uri": "https://localhost:8080/",
          "height": 35
        },
        "outputId": "5766139b-1c3a-4e6c-84be-3b3e5082e26e"
      },
      "source": [
        "arr = ['hello', 'there', 'python', 'learning']\n",
        "'-'.join(arr)"
      ],
      "execution_count": 7,
      "outputs": [
        {
          "output_type": "execute_result",
          "data": {
            "text/plain": [
              "'hello-there-python-learning'"
            ]
          },
          "metadata": {
            "tags": []
          },
          "execution_count": 7
        }
      ]
    },
    {
      "cell_type": "code",
      "metadata": {
        "id": "dfFuQEiKWa0C",
        "colab_type": "code",
        "colab": {
          "base_uri": "https://localhost:8080/",
          "height": 35
        },
        "outputId": "3227cf8c-6e29-4f68-a1b6-bf0f8db1523f"
      },
      "source": [
        "' '.join(arr)"
      ],
      "execution_count": 8,
      "outputs": [
        {
          "output_type": "execute_result",
          "data": {
            "text/plain": [
              "'hello there python learning'"
            ]
          },
          "metadata": {
            "tags": []
          },
          "execution_count": 8
        }
      ]
    },
    {
      "cell_type": "markdown",
      "metadata": {
        "id": "MT0pDLmLWnb9",
        "colab_type": "text"
      },
      "source": [
        "## 3. Max occurance in list\n",
        "\n"
      ]
    },
    {
      "cell_type": "code",
      "metadata": {
        "id": "k6QdDvejW-We",
        "colab_type": "code",
        "colab": {
          "base_uri": "https://localhost:8080/",
          "height": 35
        },
        "outputId": "703a1ce7-f489-4475-cb5f-9f2d34724210"
      },
      "source": [
        "arr = [1, 2, 2, 4, 2, 2, 3, 1, 5, 4, 4]\n",
        "max(set(arr), key=arr.count)"
      ],
      "execution_count": 12,
      "outputs": [
        {
          "output_type": "execute_result",
          "data": {
            "text/plain": [
              "2"
            ]
          },
          "metadata": {
            "tags": []
          },
          "execution_count": 12
        }
      ]
    },
    {
      "cell_type": "markdown",
      "metadata": {
        "id": "GWHw3yLjXUV_",
        "colab_type": "text"
      },
      "source": [
        "## 4. Value Swapping"
      ]
    },
    {
      "cell_type": "code",
      "metadata": {
        "id": "EkoBkSx1XXE5",
        "colab_type": "code",
        "colab": {
          "base_uri": "https://localhost:8080/",
          "height": 35
        },
        "outputId": "b74449c8-256a-4c85-d140-ad43ad2811cf"
      },
      "source": [
        "a, b = 2, 5\n",
        "a, b = b, a\n",
        "print(a, b)"
      ],
      "execution_count": 13,
      "outputs": [
        {
          "output_type": "stream",
          "text": [
            "5 2\n"
          ],
          "name": "stdout"
        }
      ]
    },
    {
      "cell_type": "markdown",
      "metadata": {
        "id": "8KpUDPU8XhQb",
        "colab_type": "text"
      },
      "source": [
        "## 5. Range into list"
      ]
    },
    {
      "cell_type": "code",
      "metadata": {
        "id": "0gMXRsXEXkd6",
        "colab_type": "code",
        "colab": {
          "base_uri": "https://localhost:8080/",
          "height": 35
        },
        "outputId": "df254d55-5301-45e2-d48b-eb19b8683319"
      },
      "source": [
        "arr = list(range(1, 11))\n",
        "arr"
      ],
      "execution_count": 14,
      "outputs": [
        {
          "output_type": "execute_result",
          "data": {
            "text/plain": [
              "[1, 2, 3, 4, 5, 6, 7, 8, 9, 10]"
            ]
          },
          "metadata": {
            "tags": []
          },
          "execution_count": 14
        }
      ]
    },
    {
      "cell_type": "markdown",
      "metadata": {
        "id": "U4KyKXhPX1pq",
        "colab_type": "text"
      },
      "source": [
        "## 6. Dict Comprehension"
      ]
    },
    {
      "cell_type": "code",
      "metadata": {
        "id": "nX_LLyk-X4ND",
        "colab_type": "code",
        "colab": {
          "base_uri": "https://localhost:8080/",
          "height": 35
        },
        "outputId": "a2e6f485-7543-462e-e58f-8f4562445702"
      },
      "source": [
        "from string import ascii_lowercase\n",
        "{i:j for i, j in enumerate(ascii_lowercase) if i <6}"
      ],
      "execution_count": 17,
      "outputs": [
        {
          "output_type": "execute_result",
          "data": {
            "text/plain": [
              "{0: 'a', 1: 'b', 2: 'c', 3: 'd', 4: 'e', 5: 'f'}"
            ]
          },
          "metadata": {
            "tags": []
          },
          "execution_count": 17
        }
      ]
    },
    {
      "cell_type": "code",
      "metadata": {
        "id": "N2_2gOa0YJkD",
        "colab_type": "code",
        "colab": {
          "base_uri": "https://localhost:8080/",
          "height": 35
        },
        "outputId": "78e521f3-f41f-4050-fe0e-717ae7d8bea6"
      },
      "source": [
        "{j:i for i, j in enumerate(ascii_lowercase) if i<6}"
      ],
      "execution_count": 18,
      "outputs": [
        {
          "output_type": "execute_result",
          "data": {
            "text/plain": [
              "{'a': 0, 'b': 1, 'c': 2, 'd': 3, 'e': 4, 'f': 5}"
            ]
          },
          "metadata": {
            "tags": []
          },
          "execution_count": 18
        }
      ]
    },
    {
      "cell_type": "code",
      "metadata": {
        "id": "xMDVcUyYYUzr",
        "colab_type": "code",
        "colab": {
          "base_uri": "https://localhost:8080/",
          "height": 35
        },
        "outputId": "060af9aa-24b0-458d-ab78-0978567c469c"
      },
      "source": [
        "{i:i for i in range(6)}"
      ],
      "execution_count": 19,
      "outputs": [
        {
          "output_type": "execute_result",
          "data": {
            "text/plain": [
              "{0: 0, 1: 1, 2: 2, 3: 3, 4: 4, 5: 5}"
            ]
          },
          "metadata": {
            "tags": []
          },
          "execution_count": 19
        }
      ]
    },
    {
      "cell_type": "markdown",
      "metadata": {
        "id": "_Rj4y_xnYfpd",
        "colab_type": "text"
      },
      "source": [
        "## 7. Adding lists\n"
      ]
    },
    {
      "cell_type": "code",
      "metadata": {
        "id": "2gG3T2XQYiWT",
        "colab_type": "code",
        "colab": {
          "base_uri": "https://localhost:8080/",
          "height": 35
        },
        "outputId": "193e2798-fcec-48e1-9360-6f16d891ec42"
      },
      "source": [
        "a= [1,2,3,4]\n",
        "b= [5,6,7,8]\n",
        "a+b"
      ],
      "execution_count": 20,
      "outputs": [
        {
          "output_type": "execute_result",
          "data": {
            "text/plain": [
              "[1, 2, 3, 4, 5, 6, 7, 8]"
            ]
          },
          "metadata": {
            "tags": []
          },
          "execution_count": 20
        }
      ]
    },
    {
      "cell_type": "code",
      "metadata": {
        "id": "dGcDd7kQYoxn",
        "colab_type": "code",
        "colab": {
          "base_uri": "https://localhost:8080/",
          "height": 35
        },
        "outputId": "2338e10d-6282-49ff-d5d2-87a2df46e839"
      },
      "source": [
        "a= [1,2,3,4]\n",
        "b= [5,6,7,8]\n",
        "a.append(b)\n",
        "a"
      ],
      "execution_count": 23,
      "outputs": [
        {
          "output_type": "execute_result",
          "data": {
            "text/plain": [
              "[1, 2, 3, 4, [5, 6, 7, 8]]"
            ]
          },
          "metadata": {
            "tags": []
          },
          "execution_count": 23
        }
      ]
    },
    {
      "cell_type": "code",
      "metadata": {
        "id": "QY2NE_tgY0ju",
        "colab_type": "code",
        "colab": {
          "base_uri": "https://localhost:8080/",
          "height": 35
        },
        "outputId": "3a98a764-607d-498f-e334-9ec254ad5dca"
      },
      "source": [
        "a= [1,2,3,4]\n",
        "b= [5,6,7,8]\n",
        "[i+j for i, j in zip(a,b)]"
      ],
      "execution_count": 24,
      "outputs": [
        {
          "output_type": "execute_result",
          "data": {
            "text/plain": [
              "[6, 8, 10, 12]"
            ]
          },
          "metadata": {
            "tags": []
          },
          "execution_count": 24
        }
      ]
    },
    {
      "cell_type": "markdown",
      "metadata": {
        "id": "qcp7VO0-Y_HV",
        "colab_type": "text"
      },
      "source": [
        "## 8. Extraction of nested lists"
      ]
    },
    {
      "cell_type": "code",
      "metadata": {
        "id": "74t8NGueZCo1",
        "colab_type": "code",
        "colab": {
          "base_uri": "https://localhost:8080/",
          "height": 35
        },
        "outputId": "4f3ac42a-5b5b-4194-8e0e-be1090d0e602"
      },
      "source": [
        "list1 = [[1],[2], [3], [4],[5]]\n",
        "sum(list1, [])"
      ],
      "execution_count": 25,
      "outputs": [
        {
          "output_type": "execute_result",
          "data": {
            "text/plain": [
              "[1, 2, 3, 4, 5]"
            ]
          },
          "metadata": {
            "tags": []
          },
          "execution_count": 25
        }
      ]
    }
  ]
}